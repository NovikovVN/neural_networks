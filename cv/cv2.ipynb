{
 "cells": [
  {
   "cell_type": "code",
   "execution_count": 0,
   "metadata": {
    "colab": {},
    "colab_type": "code",
    "id": "yiiFr7W4rdWX"
   },
   "outputs": [],
   "source": [
    "import numpy as np\n",
    "import matplotlib.pyplot as plt\n",
    "\n",
    "%tensorflow_version 2.x\n",
    "import tensorflow as tf\n",
    "\n",
    "%matplotlib inline"
   ]
  },
  {
   "cell_type": "code",
   "execution_count": 0,
   "metadata": {
    "colab": {
     "base_uri": "https://localhost:8080/",
     "height": 85
    },
    "colab_type": "code",
    "id": "ygmwJeflqJXn",
    "outputId": "5738d827-cf92-4048-dc85-25ee15cbdeb8"
   },
   "outputs": [
    {
     "name": "stdout",
     "output_type": "stream",
     "text": [
      "(50000, 32, 32, 3) float32\n",
      "(10000, 32, 32, 3) float32\n",
      "(50000, 10) float32\n",
      "(10000, 10) float32\n"
     ]
    }
   ],
   "source": [
    "(train_x, train_y), (test_x, test_y) = tf.keras.datasets.cifar10.load_data()\n",
    "\n",
    "train_x = train_x.reshape(-1, 32, 32, 3).astype('float32') / 255.\n",
    "test_x = test_x.reshape(-1, 32, 32, 3).astype('float32') / 255.\n",
    "train_y = tf.keras.utils.to_categorical(train_y, 10) \n",
    "test_y = tf.keras.utils.to_categorical(test_y, 10)\n",
    "\n",
    "print(train_x.shape, train_x.dtype)\n",
    "print(test_x.shape, test_x.dtype)\n",
    "print(train_y.shape, train_y.dtype)\n",
    "print(test_y.shape, test_y.dtype)"
   ]
  },
  {
   "cell_type": "code",
   "execution_count": 0,
   "metadata": {
    "colab": {
     "base_uri": "https://localhost:8080/",
     "height": 248
    },
    "colab_type": "code",
    "id": "1uX2bswaqJiV",
    "outputId": "7e337feb-f150-42e4-c3da-a43ab81179a9"
   },
   "outputs": [
    {
     "data": {
      "image/png": "[encoded data removed]",
      "text/plain": [
       "<Figure size 432x288 with 1 Axes>"
      ]
     },
     "metadata": {
      "needs_background": "light",
      "tags": []
     },
     "output_type": "display_data"
    }
   ],
   "source": [
    "plt.imshow(train_x[0, :, :, :])\n",
    "plt.axis('off')\n",
    "plt.show()"
   ]
  },
  {
   "cell_type": "markdown",
   "metadata": {},
   "source": [
    "**Создание обучающего датасета**"
   ]
  },
  {
   "cell_type": "code",
   "execution_count": 0,
   "metadata": {
    "colab": {},
    "colab_type": "code",
    "id": "_PubptiNsnBT"
   },
   "outputs": [],
   "source": [
    "NUM_EPOCHS = 20\n",
    "BATCH_SIZE = 40\n",
    "\n",
    "train_ds = tf.data.Dataset.from_tensor_slices((train_x, train_y))\n",
    "train_ds = train_ds.shuffle(buffer_size=train_x.shape[0])\n",
    "train_ds = train_ds.repeat(NUM_EPOCHS)\n",
    "train_ds = train_ds.batch(BATCH_SIZE) # skip, take"
   ]
  },
  {
   "cell_type": "markdown",
   "metadata": {},
   "source": [
    "**Класс модели CNN следующей архитектуры ([отсюда](https://github.com/NovikovVN/neural_networks/blob/master/intro/neural_networks04.ipynb)):**\n",
    "\n",
    "Первый блок генерации признаков:\n",
    " - первый свёрточный слой: 32 фильтров 3х3\n",
    " - второй свёрточный слой: 32 фильтров 3х3\n",
    " - слой пулинга через взятие максимума фильтром 2х2\n",
    " - слой дропаута для регуляризации весов\n",
    "\n",
    "Второй блок генерации признаков:\n",
    " - третий свёрточный слой: 64 фильтров 3х3\n",
    " - четвёртый свёрточный слой: 64 фильтров 3х3\n",
    " - слой пулинга через взятие максимума фильтром 2х2\n",
    " - слой дропаута для регуляризации весов\n",
    "\n",
    "Блок классификации:\n",
    " - два полносвязных слоя по 256 нейрона\n",
    " - слой дропаута для регуляризации весов \n",
    " - выходной слой с 10 нейронами"
   ]
  },
  {
   "cell_type": "code",
   "execution_count": 0,
   "metadata": {
    "colab": {},
    "colab_type": "code",
    "id": "cWbPt5eTjsJs"
   },
   "outputs": [],
   "source": [
    "class Model(tf.keras.Model):\n",
    "\n",
    "    def __init__(self):\n",
    "        super(Model, self).__init__()\n",
    "\n",
    "        self.conv1 = tf.keras.layers.Conv2D(filters=32,\n",
    "                                            kernel_size=(3, 3),\n",
    "                                            input_shape=(32, 32, 3),\n",
    "                                            data_format='channels_last',\n",
    "                                            activation='relu',\n",
    "                                            padding='valid')\n",
    "        self.conv2 = tf.keras.layers.Conv2D(filters=32,\n",
    "                                            kernel_size=(3, 3),\n",
    "                                            data_format='channels_last',\n",
    "                                            activation='relu',\n",
    "                                            padding='valid')\n",
    "        self.conv3 = tf.keras.layers.Conv2D(filters=64,\n",
    "                                            kernel_size=(3, 3),\n",
    "                                            data_format='channels_last',\n",
    "                                            activation='relu',\n",
    "                                            padding='valid')\n",
    "        self.conv4 = tf.keras.layers.Conv2D(filters=64,\n",
    "                                            kernel_size=(3, 3),\n",
    "                                            data_format='channels_last',\n",
    "                                            activation='relu',\n",
    "                                            padding='valid')\n",
    "        self.fc1 = tf.keras.layers.Dense(256, activation='relu')\n",
    "        self.fc2 = tf.keras.layers.Dense(256, activation='relu')\n",
    "        self.fc3 = tf.keras.layers.Dense(10, activation=None)       \n",
    "        self.maxpool = tf.keras.layers.MaxPooling2D((2, 2))\n",
    "        self.flatten = tf.keras.layers.Flatten()\n",
    "        self.dropout = tf.keras.layers.Dropout(rate=0.3, seed=0)\n",
    "\n",
    "    def call(self, inp):\n",
    "        \n",
    "        out = self.conv1(inp)\n",
    "        out = self.conv2(out)       \n",
    "        out = self.maxpool(out)\n",
    "        out = self.dropout(out)        \n",
    "        out = self.conv3(out)\n",
    "        out = self.conv4(out)\n",
    "        out = self.maxpool(out)\n",
    "        out = self.dropout(out)        \n",
    "        out = self.flatten(out)\n",
    "        out = self.fc1(out)\n",
    "        out = self.fc2(out)\n",
    "        out = self.dropout(out)\n",
    "        out = self.fc3(out)\n",
    "\n",
    "        return out\n",
    "\n",
    "model = Model()"
   ]
  },
  {
   "cell_type": "markdown",
   "metadata": {},
   "source": [
    "**Функция потерь и функция вычисления доли правильных ответов**"
   ]
  },
  {
   "cell_type": "code",
   "execution_count": 0,
   "metadata": {
    "colab": {},
    "colab_type": "code",
    "id": "bsV0xqY-sUYV"
   },
   "outputs": [],
   "source": [
    "def loss(logits, labels):\n",
    "    return tf.reduce_mean(tf.nn.softmax_cross_entropy_with_logits(\n",
    "                          logits=logits, labels=labels))\n",
    "    \n",
    "def accuracy(logits, sparsed_labels):\n",
    "    predictions, labels = [tf.argmax(y, axis=1, output_type=tf.int32) \\\n",
    "                           for y in (logits, sparsed_labels)]\n",
    "    return tf.reduce_mean(tf.cast(tf.equal(predictions, labels), dtype=tf.float32))"
   ]
  },
  {
   "cell_type": "markdown",
   "metadata": {},
   "source": [
    "**Обучение модели**"
   ]
  },
  {
   "cell_type": "code",
   "execution_count": 0,
   "metadata": {
    "colab": {},
    "colab_type": "code",
    "id": "I0feji8HsUL_"
   },
   "outputs": [],
   "source": [
    "LEARNING_RATE = 0.001\n",
    "\n",
    "optimizer = tf.keras.optimizers.Adam(LEARNING_RATE)\n",
    "\n",
    "writer = tf.summary.create_file_writer('logs/adam')"
   ]
  },
  {
   "cell_type": "code",
   "execution_count": 0,
   "metadata": {
    "colab": {
     "base_uri": "https://localhost:8080/",
     "height": 595
    },
    "colab_type": "code",
    "id": "zDpCBGTkqJrV",
    "outputId": "4f2be3a4-cbb3-4b6d-f9ae-8807ad3c2583"
   },
   "outputs": [
    {
     "name": "stdout",
     "output_type": "stream",
     "text": [
      "[     0] Accuracy: 9.38%\n",
      "[   800] Accuracy: 55.08%\n",
      "[  1600] Accuracy: 57.81%\n",
      "[  2400] Accuracy: 66.80%\n",
      "[  3200] Accuracy: 68.36%\n",
      "[  4000] Accuracy: 74.22%\n",
      "[  4800] Accuracy: 72.27%\n",
      "[  5600] Accuracy: 74.61%\n",
      "[  6400] Accuracy: 75.78%\n",
      "[  7200] Accuracy: 75.00%\n",
      "[  8000] Accuracy: 75.00%\n",
      "[  8800] Accuracy: 78.12%\n",
      "[  9600] Accuracy: 77.34%\n",
      "[ 10400] Accuracy: 76.17%\n",
      "[ 11200] Accuracy: 76.17%\n",
      "[ 12000] Accuracy: 76.17%\n",
      "[ 12800] Accuracy: 74.61%\n",
      "[ 13600] Accuracy: 77.34%\n",
      "[ 14400] Accuracy: 78.12%\n",
      "[ 15200] Accuracy: 77.34%\n",
      "[ 16000] Accuracy: 75.78%\n",
      "[ 16800] Accuracy: 76.17%\n",
      "[ 17600] Accuracy: 72.27%\n",
      "[ 18400] Accuracy: 78.52%\n",
      "[ 19200] Accuracy: 76.56%\n",
      "[ 20000] Accuracy: 75.39%\n",
      "[ 20800] Accuracy: 75.39%\n",
      "[ 21600] Accuracy: 76.95%\n",
      "[ 22400] Accuracy: 76.56%\n",
      "[ 23200] Accuracy: 75.39%\n",
      "[ 24000] Accuracy: 74.22%\n",
      "[ 24800] Accuracy: 73.44%\n",
      "CPU times: user 7min 30s, sys: 10.5 s, total: 7min 40s\n",
      "Wall time: 7min 37s\n"
     ]
    }
   ],
   "source": [
    "%%time\n",
    "\n",
    "for iteration, (images, labels) in enumerate(train_ds):\n",
    "    \n",
    "    # Forward\n",
    "    with tf.GradientTape() as tape:\n",
    "        logits = model(images)\n",
    "        loss_value = loss(logits, labels)\n",
    "\n",
    "    # Backward\n",
    "    grads = tape.gradient(loss_value, model.trainable_variables)\n",
    "    optimizer.apply_gradients(zip(grads, model.trainable_variables))\n",
    "\n",
    "    # Calc and display loss/accuracy\n",
    "    if iteration % 800 == 0:\n",
    "        test_logits = model(test_x[:256, ...])\n",
    "        accuracy_value = accuracy(test_logits, test_y[:256, ...])\n",
    "\n",
    "        print('[%6d] Accuracy: %.2f%%' \\\n",
    "              % (iteration, accuracy_value.numpy()*100))\n",
    "\n",
    "        with writer.as_default():\n",
    "            tf.summary.scalar('accuracy', accuracy_value, iteration)\n",
    "            tf.summary.scalar('loss', loss_value, iteration)"
   ]
  },
  {
   "cell_type": "markdown",
   "metadata": {},
   "source": [
    "**Проверка работы модели**"
   ]
  },
  {
   "cell_type": "code",
   "execution_count": 0,
   "metadata": {
    "colab": {
     "base_uri": "https://localhost:8080/",
     "height": 68
    },
    "colab_type": "code",
    "id": "Vh-Iwibb62Ge",
    "outputId": "4c9a6131-ef2a-4800-dad6-ed237568a053"
   },
   "outputs": [
    {
     "name": "stdout",
     "output_type": "stream",
     "text": [
      "Final accuracy: 71.84%\n",
      "CPU times: user 1.15 s, sys: 910 ms, total: 2.06 s\n",
      "Wall time: 2.13 s\n"
     ]
    }
   ],
   "source": [
    "%%time\n",
    "\n",
    "test_logits = model(test_x)\n",
    "accuracy_value = accuracy(test_logits, test_y)\n",
    "print('Final accuracy: %.2f%%' % (accuracy_value.numpy() * 100))"
   ]
  },
  {
   "cell_type": "code",
   "execution_count": 0,
   "metadata": {
    "colab": {},
    "colab_type": "code",
    "id": "ZtW_DFE_62EC"
   },
   "outputs": [],
   "source": [
    "def test_item(sample):\n",
    "\n",
    "    logits = model(sample[None, ...])[0]\n",
    "    predictions = tf.nn.softmax(logits)\n",
    "    ans = np.argmax(predictions)\n",
    "\n",
    "    fig = plt.figure(figsize=(12, 4))\n",
    "\n",
    "    ax = fig.add_subplot(1, 2, 1)\n",
    "    ax.imshow(sample[:, :, :])\n",
    "    ax.axis('off')\n",
    "\n",
    "    ax = fig.add_subplot(1, 2, 2)\n",
    "    bar_list = ax.bar(np.arange(10), predictions, alpha=0.5)\n",
    "    bar_list[ans].set_alpha(1)\n",
    "    ax.set_xticks(np.arange(10))\n",
    "\n",
    "    plt.show()\n",
    "\n",
    "    print(f'Predicted: {ans}')"
   ]
  },
  {
   "cell_type": "code",
   "execution_count": 0,
   "metadata": {
    "colab": {
     "base_uri": "https://localhost:8080/",
     "height": 302
    },
    "colab_type": "code",
    "id": "9qEaTyjL614-",
    "outputId": "8d3ec95d-f9d7-42fb-f3e4-2b3d39800d52"
   },
   "outputs": [
    {
     "data": {
      "image/png": "[encoded data removed]",
      "text/plain": [
       "<Figure size 864x288 with 2 Axes>"
      ]
     },
     "metadata": {
      "needs_background": "light",
      "tags": []
     },
     "output_type": "display_data"
    },
    {
     "name": "stdout",
     "output_type": "stream",
     "text": [
      "Predicted: 5\n",
      "True: 5\n"
     ]
    }
   ],
   "source": [
    "idx = 12\n",
    "sample = test_x[idx, ...]\n",
    "\n",
    "test_item(sample)\n",
    "print(f'True: {np.argmax(test_y[idx, ...])}')"
   ]
  }
 ],
 "metadata": {
  "accelerator": "GPU",
  "colab": {
   "collapsed_sections": [],
   "name": "cv2.ipynb",
   "provenance": []
  },
  "kernelspec": {
   "display_name": "Python 3",
   "language": "python",
   "name": "python3"
  },
  "language_info": {
   "codemirror_mode": {
    "name": "ipython",
    "version": 3
   },
   "file_extension": ".py",
   "mimetype": "text/x-python",
   "name": "python",
   "nbconvert_exporter": "python",
   "pygments_lexer": "ipython3",
   "version": "3.7.3"
  }
 },
 "nbformat": 4,
 "nbformat_minor": 1
}
