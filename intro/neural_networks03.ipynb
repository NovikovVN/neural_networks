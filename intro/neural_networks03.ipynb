{
 "cells": [
  {
   "cell_type": "markdown",
   "metadata": {},
   "source": [
    "# Введение в искусственные нейронные сети\n",
    "# Урок 3. TensorFlow"
   ]
  },
  {
   "cell_type": "markdown",
   "metadata": {},
   "source": [
    "## Практическое задание\n",
    "\n",
    "<ol>\n",
    "    <li>Попробуйте обучить нейронную сеть на TensorFlow 2 на любом датасете (fachion_mnist, mdb_reviews, boston_housing). Опишите в комментарии к уроку - какой результата вы добились от нейросети? Что помогло вам улучшить ее точность?<br>\n",
    "    </li>\n",
    "    <li>Постройте сеть на Dense слоях с использование нескольких нитей графа вычислений. (concatenate, Add, ....)<br></li>        \n",
    "    <li>*Поработайте с документацией TensorFlow 2. Найдите полезные команды не разобранные на уроке.\n",
    "    </li>  \n",
    "</ol>"
   ]
  },
  {
   "cell_type": "code",
   "execution_count": 0,
   "metadata": {
    "colab": {},
    "colab_type": "code",
    "id": "WPdQX72Uz5IK"
   },
   "outputs": [],
   "source": [
    "import matplotlib.pyplot as plt\n",
    "import numpy as np\n",
    "from tensorflow import keras"
   ]
  },
  {
   "cell_type": "code",
   "execution_count": 0,
   "metadata": {
    "colab": {},
    "colab_type": "code",
    "id": "rsHnbCsqQRlS"
   },
   "outputs": [],
   "source": [
    "### Загрузка данных boston_housing\n",
    "(x_train, y_train), (x_test, y_test) = keras.datasets.boston_housing.load_data()"
   ]
  },
  {
   "cell_type": "code",
   "execution_count": 0,
   "metadata": {
    "colab": {
     "base_uri": "https://localhost:8080/",
     "height": 68
    },
    "colab_type": "code",
    "id": "xJ3FCoDqQgJd",
    "outputId": "f8ce3dc2-7f78-48fa-87d3-1a38afa83987"
   },
   "outputs": [
    {
     "name": "stdout",
     "output_type": "stream",
     "text": [
      "[2.1770e-02 8.2500e+01 2.0300e+00 0.0000e+00 4.1500e-01 7.6100e+00\n",
      " 1.5700e+01 6.2700e+00 2.0000e+00 3.4800e+02 1.4700e+01 3.9538e+02\n",
      " 3.1100e+00]\n"
     ]
    }
   ],
   "source": [
    "### Признаковое пространство\n",
    "print(x_train[1])"
   ]
  },
  {
   "cell_type": "code",
   "execution_count": 0,
   "metadata": {
    "colab": {
     "base_uri": "https://localhost:8080/",
     "height": 34
    },
    "colab_type": "code",
    "id": "PFgDWs2hxhGg",
    "outputId": "e6a2412d-c264-4e41-cb75-682207446b56"
   },
   "outputs": [
    {
     "name": "stdout",
     "output_type": "stream",
     "text": [
      "42.3\n"
     ]
    }
   ],
   "source": [
    "### Целевая переменная - вещественное число (задача регрессии)\n",
    "print(y_train[1])"
   ]
  },
  {
   "cell_type": "code",
   "execution_count": 0,
   "metadata": {
    "colab": {},
    "colab_type": "code",
    "id": "sMmX2ekoQgbU"
   },
   "outputs": [],
   "source": [
    "### Масштабируем данные (стандартизация)\n",
    "means = x_train.mean(axis=0)\n",
    "stds = x_train.std(axis=0)\n",
    "\n",
    "x_train_scaled = (x_train - means) / stds\n",
    "x_test_scaled = (x_test - means) / stds"
   ]
  },
  {
   "cell_type": "code",
   "execution_count": 0,
   "metadata": {
    "colab": {
     "base_uri": "https://localhost:8080/",
     "height": 34
    },
    "colab_type": "code",
    "id": "3nZUjKRYmQ4z",
    "outputId": "e5d42a77-ee86-4b61-c4b3-9eb04c3b1522"
   },
   "outputs": [
    {
     "data": {
      "text/plain": [
       "(404, 13)"
      ]
     },
     "execution_count": 8,
     "metadata": {
      "tags": []
     },
     "output_type": "execute_result"
    }
   ],
   "source": [
    "### Количество входных признаков - 13\n",
    "x_train_scaled.shape"
   ]
  },
  {
   "cell_type": "markdown",
   "metadata": {},
   "source": [
    "Для решения задачи обучим две нейросети с одним скрытым полносвязным слоем и одним выходным (поскольку задача регрессии). Одна сеть содержит в скрытом слое 64 нейрона, вторая - 128. В качестве метрики выберем MAPE (Mean Absolute Percentage Error).\n",
    "\n",
    "Сети обучаются и проверяются на *шкалированных* данных."
   ]
  },
  {
   "cell_type": "code",
   "execution_count": 0,
   "metadata": {
    "colab": {},
    "colab_type": "code",
    "id": "YCeOdttnQgX1"
   },
   "outputs": [],
   "source": [
    "### Сеть с 64 нейронами\n",
    "model_64 = keras.models.Sequential()\n",
    "model_64.add(keras.layers.Dense(64, activation='relu', input_shape=(13, ), name='hidden_64'))\n",
    "model_64.add(keras.layers.Dense(1, name='output_64'))\n",
    "model_64.compile(optimizer='adam', loss='mse', metrics=['mape'])"
   ]
  },
  {
   "cell_type": "code",
   "execution_count": 0,
   "metadata": {
    "colab": {
     "base_uri": "https://localhost:8080/",
     "height": 1000
    },
    "colab_type": "code",
    "id": "QoagELy3QgU9",
    "outputId": "bd240c8b-78f4-4197-eb8d-75e2e786e36a"
   },
   "outputs": [
    {
     "name": "stdout",
     "output_type": "stream",
     "text": [
      "Train on 270 samples, validate on 134 samples\n",
      "Epoch 1/100\n",
      "270/270 [==============================] - 3s 10ms/sample - loss: 465.0877 - mean_absolute_percentage_error: 89.1374 - val_loss: 402.7943 - val_mean_absolute_percentage_error: 71.2311\n",
      "Epoch 2/100\n",
      "270/270 [==============================] - 1s 4ms/sample - loss: 185.8883 - mean_absolute_percentage_error: 49.6423 - val_loss: 138.1135 - val_mean_absolute_percentage_error: 34.6801\n",
      "Epoch 3/100\n",
      "270/270 [==============================] - 1s 4ms/sample - loss: 55.2661 - mean_absolute_percentage_error: 25.1510 - val_loss: 78.9185 - val_mean_absolute_percentage_error: 26.5475\n",
      "Epoch 4/100\n",
      "270/270 [==============================] - 1s 4ms/sample - loss: 33.0974 - mean_absolute_percentage_error: 20.2058 - val_loss: 59.2934 - val_mean_absolute_percentage_error: 22.4936\n",
      "Epoch 5/100\n",
      "270/270 [==============================] - 1s 4ms/sample - loss: 25.9860 - mean_absolute_percentage_error: 17.5206 - val_loss: 49.0393 - val_mean_absolute_percentage_error: 20.5175\n",
      "Epoch 6/100\n",
      "270/270 [==============================] - 1s 4ms/sample - loss: 22.8530 - mean_absolute_percentage_error: 16.9267 - val_loss: 43.6932 - val_mean_absolute_percentage_error: 19.1036\n",
      "Epoch 7/100\n",
      "270/270 [==============================] - 1s 4ms/sample - loss: 20.9339 - mean_absolute_percentage_error: 16.1589 - val_loss: 39.9218 - val_mean_absolute_percentage_error: 17.7992\n",
      "Epoch 8/100\n",
      "270/270 [==============================] - 1s 4ms/sample - loss: 19.1803 - mean_absolute_percentage_error: 15.5254 - val_loss: 37.8116 - val_mean_absolute_percentage_error: 17.0960\n",
      "Epoch 9/100\n",
      "270/270 [==============================] - 1s 4ms/sample - loss: 17.9704 - mean_absolute_percentage_error: 15.0799 - val_loss: 33.4841 - val_mean_absolute_percentage_error: 16.2234\n",
      "Epoch 10/100\n",
      "270/270 [==============================] - 1s 4ms/sample - loss: 16.7069 - mean_absolute_percentage_error: 14.6820 - val_loss: 31.2612 - val_mean_absolute_percentage_error: 15.5118\n",
      "Epoch 11/100\n",
      "270/270 [==============================] - 1s 4ms/sample - loss: 15.7169 - mean_absolute_percentage_error: 14.4682 - val_loss: 28.8991 - val_mean_absolute_percentage_error: 15.1856\n",
      "Epoch 12/100\n",
      "270/270 [==============================] - 1s 4ms/sample - loss: 14.4261 - mean_absolute_percentage_error: 13.8501 - val_loss: 27.7563 - val_mean_absolute_percentage_error: 14.3643\n",
      "Epoch 13/100\n",
      "270/270 [==============================] - 1s 4ms/sample - loss: 13.5555 - mean_absolute_percentage_error: 13.1697 - val_loss: 25.7087 - val_mean_absolute_percentage_error: 13.7697\n",
      "Epoch 14/100\n",
      "270/270 [==============================] - 1s 4ms/sample - loss: 12.5423 - mean_absolute_percentage_error: 13.0639 - val_loss: 23.7582 - val_mean_absolute_percentage_error: 13.2766\n",
      "Epoch 15/100\n",
      "270/270 [==============================] - 1s 4ms/sample - loss: 11.6537 - mean_absolute_percentage_error: 12.5364 - val_loss: 22.6757 - val_mean_absolute_percentage_error: 13.1439\n",
      "Epoch 16/100\n",
      "270/270 [==============================] - 1s 4ms/sample - loss: 10.7734 - mean_absolute_percentage_error: 11.7803 - val_loss: 21.7077 - val_mean_absolute_percentage_error: 12.7010\n",
      "Epoch 17/100\n",
      "270/270 [==============================] - 1s 4ms/sample - loss: 10.3776 - mean_absolute_percentage_error: 11.8205 - val_loss: 19.9445 - val_mean_absolute_percentage_error: 12.9772\n",
      "Epoch 18/100\n",
      "270/270 [==============================] - 1s 4ms/sample - loss: 9.5906 - mean_absolute_percentage_error: 11.2944 - val_loss: 20.3017 - val_mean_absolute_percentage_error: 13.1700\n",
      "Epoch 19/100\n",
      "270/270 [==============================] - 1s 4ms/sample - loss: 9.3150 - mean_absolute_percentage_error: 11.4855 - val_loss: 18.9861 - val_mean_absolute_percentage_error: 12.5371\n",
      "Epoch 20/100\n",
      "270/270 [==============================] - 1s 4ms/sample - loss: 8.7656 - mean_absolute_percentage_error: 10.8505 - val_loss: 17.9059 - val_mean_absolute_percentage_error: 12.3681\n",
      "Epoch 21/100\n",
      "270/270 [==============================] - 1s 4ms/sample - loss: 8.4119 - mean_absolute_percentage_error: 10.7164 - val_loss: 16.9702 - val_mean_absolute_percentage_error: 12.0934\n",
      "Epoch 22/100\n",
      "270/270 [==============================] - 1s 4ms/sample - loss: 8.2179 - mean_absolute_percentage_error: 10.8238 - val_loss: 16.8449 - val_mean_absolute_percentage_error: 12.2400\n",
      "Epoch 23/100\n",
      "270/270 [==============================] - 1s 4ms/sample - loss: 7.8223 - mean_absolute_percentage_error: 10.6604 - val_loss: 16.4727 - val_mean_absolute_percentage_error: 12.2128\n",
      "Epoch 24/100\n",
      "270/270 [==============================] - 1s 4ms/sample - loss: 7.6522 - mean_absolute_percentage_error: 10.4205 - val_loss: 16.5605 - val_mean_absolute_percentage_error: 11.7824\n",
      "Epoch 25/100\n",
      "270/270 [==============================] - 1s 4ms/sample - loss: 7.5167 - mean_absolute_percentage_error: 10.3537 - val_loss: 15.8300 - val_mean_absolute_percentage_error: 12.0617\n",
      "Epoch 26/100\n",
      "270/270 [==============================] - 1s 4ms/sample - loss: 7.1616 - mean_absolute_percentage_error: 10.4177 - val_loss: 17.1332 - val_mean_absolute_percentage_error: 12.4147\n",
      "Epoch 27/100\n",
      "270/270 [==============================] - 1s 4ms/sample - loss: 7.1792 - mean_absolute_percentage_error: 9.9301 - val_loss: 15.3004 - val_mean_absolute_percentage_error: 11.8656\n",
      "Epoch 28/100\n",
      "270/270 [==============================] - 1s 4ms/sample - loss: 7.1693 - mean_absolute_percentage_error: 9.9864 - val_loss: 15.5717 - val_mean_absolute_percentage_error: 11.6861\n",
      "Epoch 29/100\n",
      "270/270 [==============================] - 1s 4ms/sample - loss: 6.9624 - mean_absolute_percentage_error: 10.0076 - val_loss: 15.9323 - val_mean_absolute_percentage_error: 11.8895\n",
      "Epoch 30/100\n",
      "270/270 [==============================] - 1s 4ms/sample - loss: 6.7466 - mean_absolute_percentage_error: 9.8687 - val_loss: 15.7199 - val_mean_absolute_percentage_error: 11.7005\n",
      "Epoch 31/100\n",
      "270/270 [==============================] - 1s 4ms/sample - loss: 6.6372 - mean_absolute_percentage_error: 9.5492 - val_loss: 15.3599 - val_mean_absolute_percentage_error: 11.9719\n",
      "Epoch 32/100\n",
      "270/270 [==============================] - 1s 4ms/sample - loss: 6.4322 - mean_absolute_percentage_error: 9.4802 - val_loss: 15.2096 - val_mean_absolute_percentage_error: 11.8542\n",
      "Epoch 33/100\n",
      "270/270 [==============================] - 1s 4ms/sample - loss: 6.2582 - mean_absolute_percentage_error: 9.6323 - val_loss: 16.5388 - val_mean_absolute_percentage_error: 12.2820\n",
      "Epoch 34/100\n",
      "270/270 [==============================] - 1s 4ms/sample - loss: 6.4098 - mean_absolute_percentage_error: 9.5469 - val_loss: 15.1033 - val_mean_absolute_percentage_error: 12.1328\n",
      "Epoch 35/100\n",
      "270/270 [==============================] - 1s 4ms/sample - loss: 6.2165 - mean_absolute_percentage_error: 9.2376 - val_loss: 15.3753 - val_mean_absolute_percentage_error: 12.7214\n",
      "Epoch 36/100\n",
      "270/270 [==============================] - 1s 4ms/sample - loss: 6.1319 - mean_absolute_percentage_error: 9.6772 - val_loss: 15.0735 - val_mean_absolute_percentage_error: 11.7832\n",
      "Epoch 37/100\n",
      "270/270 [==============================] - 1s 4ms/sample - loss: 6.0090 - mean_absolute_percentage_error: 9.3610 - val_loss: 15.4655 - val_mean_absolute_percentage_error: 12.1070\n",
      "Epoch 38/100\n",
      "270/270 [==============================] - 1s 4ms/sample - loss: 6.1549 - mean_absolute_percentage_error: 9.2857 - val_loss: 15.3014 - val_mean_absolute_percentage_error: 12.1021\n",
      "Epoch 39/100\n",
      "270/270 [==============================] - 1s 4ms/sample - loss: 5.9427 - mean_absolute_percentage_error: 9.2019 - val_loss: 15.2063 - val_mean_absolute_percentage_error: 11.6404\n",
      "Epoch 40/100\n",
      "270/270 [==============================] - 1s 4ms/sample - loss: 5.8538 - mean_absolute_percentage_error: 9.1067 - val_loss: 14.8402 - val_mean_absolute_percentage_error: 11.8837\n",
      "Epoch 41/100\n",
      "270/270 [==============================] - 1s 4ms/sample - loss: 5.6788 - mean_absolute_percentage_error: 9.2615 - val_loss: 15.3248 - val_mean_absolute_percentage_error: 12.6262\n",
      "Epoch 42/100\n",
      "270/270 [==============================] - 1s 4ms/sample - loss: 5.7530 - mean_absolute_percentage_error: 9.1928 - val_loss: 15.1639 - val_mean_absolute_percentage_error: 11.4783\n",
      "Epoch 43/100\n",
      "270/270 [==============================] - 1s 4ms/sample - loss: 5.6640 - mean_absolute_percentage_error: 8.8100 - val_loss: 14.8791 - val_mean_absolute_percentage_error: 11.5834\n",
      "Epoch 44/100\n",
      "270/270 [==============================] - 1s 4ms/sample - loss: 5.6103 - mean_absolute_percentage_error: 8.7995 - val_loss: 14.7193 - val_mean_absolute_percentage_error: 12.0010\n",
      "Epoch 45/100\n",
      "270/270 [==============================] - 1s 4ms/sample - loss: 5.6370 - mean_absolute_percentage_error: 9.0071 - val_loss: 14.8850 - val_mean_absolute_percentage_error: 11.7869\n",
      "Epoch 46/100\n",
      "270/270 [==============================] - 1s 4ms/sample - loss: 5.5397 - mean_absolute_percentage_error: 8.8433 - val_loss: 14.4215 - val_mean_absolute_percentage_error: 11.5717\n",
      "Epoch 47/100\n",
      "270/270 [==============================] - 1s 4ms/sample - loss: 5.3384 - mean_absolute_percentage_error: 8.8495 - val_loss: 15.4950 - val_mean_absolute_percentage_error: 11.6856\n",
      "Epoch 48/100\n",
      "270/270 [==============================] - 1s 4ms/sample - loss: 5.3576 - mean_absolute_percentage_error: 8.8284 - val_loss: 15.7189 - val_mean_absolute_percentage_error: 12.4299\n",
      "Epoch 49/100\n",
      "270/270 [==============================] - 1s 4ms/sample - loss: 5.4910 - mean_absolute_percentage_error: 8.7871 - val_loss: 14.6087 - val_mean_absolute_percentage_error: 11.3516\n",
      "Epoch 50/100\n",
      "270/270 [==============================] - 1s 4ms/sample - loss: 5.3380 - mean_absolute_percentage_error: 8.6067 - val_loss: 14.7736 - val_mean_absolute_percentage_error: 11.6298\n",
      "Epoch 51/100\n",
      "270/270 [==============================] - 1s 4ms/sample - loss: 5.3753 - mean_absolute_percentage_error: 8.9037 - val_loss: 15.4910 - val_mean_absolute_percentage_error: 12.0107\n",
      "Epoch 52/100\n",
      "270/270 [==============================] - 1s 4ms/sample - loss: 5.2118 - mean_absolute_percentage_error: 8.5449 - val_loss: 14.3842 - val_mean_absolute_percentage_error: 11.4887\n",
      "Epoch 53/100\n",
      "270/270 [==============================] - 1s 4ms/sample - loss: 5.0872 - mean_absolute_percentage_error: 8.5289 - val_loss: 14.7320 - val_mean_absolute_percentage_error: 11.3439\n",
      "Epoch 54/100\n",
      "270/270 [==============================] - 1s 4ms/sample - loss: 5.1526 - mean_absolute_percentage_error: 8.8187 - val_loss: 14.7713 - val_mean_absolute_percentage_error: 11.7059\n",
      "Epoch 55/100\n",
      "270/270 [==============================] - 1s 4ms/sample - loss: 5.2057 - mean_absolute_percentage_error: 8.7086 - val_loss: 14.4739 - val_mean_absolute_percentage_error: 11.5034\n",
      "Epoch 56/100\n",
      "270/270 [==============================] - 1s 4ms/sample - loss: 5.0204 - mean_absolute_percentage_error: 8.5348 - val_loss: 14.1624 - val_mean_absolute_percentage_error: 11.3098\n",
      "Epoch 57/100\n",
      "270/270 [==============================] - 1s 4ms/sample - loss: 4.8990 - mean_absolute_percentage_error: 8.3351 - val_loss: 14.5408 - val_mean_absolute_percentage_error: 12.0753\n",
      "Epoch 58/100\n",
      "270/270 [==============================] - 1s 4ms/sample - loss: 5.0103 - mean_absolute_percentage_error: 8.3410 - val_loss: 13.9651 - val_mean_absolute_percentage_error: 11.2995\n",
      "Epoch 59/100\n",
      "270/270 [==============================] - 1s 4ms/sample - loss: 4.8459 - mean_absolute_percentage_error: 8.1245 - val_loss: 14.1412 - val_mean_absolute_percentage_error: 11.8130\n",
      "Epoch 60/100\n",
      "270/270 [==============================] - 1s 4ms/sample - loss: 4.8244 - mean_absolute_percentage_error: 8.2281 - val_loss: 14.2507 - val_mean_absolute_percentage_error: 11.6606\n",
      "Epoch 61/100\n",
      "270/270 [==============================] - 1s 4ms/sample - loss: 5.0877 - mean_absolute_percentage_error: 8.4958 - val_loss: 14.2195 - val_mean_absolute_percentage_error: 11.3298\n",
      "Epoch 62/100\n",
      "270/270 [==============================] - 1s 4ms/sample - loss: 4.8373 - mean_absolute_percentage_error: 8.3839 - val_loss: 14.0924 - val_mean_absolute_percentage_error: 11.3885\n",
      "Epoch 63/100\n",
      "270/270 [==============================] - 1s 4ms/sample - loss: 4.7374 - mean_absolute_percentage_error: 8.0444 - val_loss: 14.3469 - val_mean_absolute_percentage_error: 11.9058\n",
      "Epoch 64/100\n",
      "270/270 [==============================] - 1s 4ms/sample - loss: 4.7340 - mean_absolute_percentage_error: 8.3435 - val_loss: 14.5533 - val_mean_absolute_percentage_error: 11.4631\n",
      "Epoch 65/100\n",
      "270/270 [==============================] - 1s 4ms/sample - loss: 4.6776 - mean_absolute_percentage_error: 8.1139 - val_loss: 14.5665 - val_mean_absolute_percentage_error: 11.2701\n",
      "Epoch 66/100\n",
      "270/270 [==============================] - 1s 4ms/sample - loss: 4.6306 - mean_absolute_percentage_error: 8.4295 - val_loss: 14.9276 - val_mean_absolute_percentage_error: 11.6851\n",
      "Epoch 67/100\n",
      "270/270 [==============================] - 1s 4ms/sample - loss: 4.5999 - mean_absolute_percentage_error: 8.1647 - val_loss: 14.3702 - val_mean_absolute_percentage_error: 11.3003\n",
      "Epoch 68/100\n",
      "270/270 [==============================] - 1s 4ms/sample - loss: 4.6080 - mean_absolute_percentage_error: 8.1776 - val_loss: 14.3166 - val_mean_absolute_percentage_error: 11.5201\n",
      "Epoch 69/100\n",
      "270/270 [==============================] - 1s 4ms/sample - loss: 4.8177 - mean_absolute_percentage_error: 8.3845 - val_loss: 14.2539 - val_mean_absolute_percentage_error: 11.9590\n",
      "Epoch 70/100\n",
      "270/270 [==============================] - 1s 4ms/sample - loss: 4.5155 - mean_absolute_percentage_error: 8.1831 - val_loss: 14.2881 - val_mean_absolute_percentage_error: 11.8412\n",
      "Epoch 71/100\n",
      "270/270 [==============================] - 1s 4ms/sample - loss: 4.5687 - mean_absolute_percentage_error: 8.1707 - val_loss: 14.2503 - val_mean_absolute_percentage_error: 11.5627\n",
      "Epoch 72/100\n",
      "270/270 [==============================] - 1s 4ms/sample - loss: 4.5175 - mean_absolute_percentage_error: 8.0228 - val_loss: 14.4932 - val_mean_absolute_percentage_error: 11.5016\n",
      "Epoch 73/100\n",
      "270/270 [==============================] - 1s 4ms/sample - loss: 4.4528 - mean_absolute_percentage_error: 7.8724 - val_loss: 15.1763 - val_mean_absolute_percentage_error: 12.8999\n",
      "Epoch 74/100\n",
      "270/270 [==============================] - 1s 4ms/sample - loss: 4.5831 - mean_absolute_percentage_error: 8.3550 - val_loss: 14.4222 - val_mean_absolute_percentage_error: 11.4995\n",
      "Epoch 75/100\n",
      "270/270 [==============================] - 1s 4ms/sample - loss: 4.5127 - mean_absolute_percentage_error: 8.4359 - val_loss: 15.0157 - val_mean_absolute_percentage_error: 11.8006\n",
      "Epoch 76/100\n",
      "270/270 [==============================] - 1s 4ms/sample - loss: 4.2117 - mean_absolute_percentage_error: 7.6739 - val_loss: 13.9886 - val_mean_absolute_percentage_error: 11.3453\n",
      "Epoch 77/100\n",
      "270/270 [==============================] - 1s 4ms/sample - loss: 4.4509 - mean_absolute_percentage_error: 8.0245 - val_loss: 14.0878 - val_mean_absolute_percentage_error: 11.3244\n",
      "Epoch 78/100\n",
      "270/270 [==============================] - 1s 4ms/sample - loss: 4.3858 - mean_absolute_percentage_error: 8.1404 - val_loss: 14.4336 - val_mean_absolute_percentage_error: 11.3620\n",
      "Epoch 79/100\n",
      "270/270 [==============================] - 1s 4ms/sample - loss: 4.3490 - mean_absolute_percentage_error: 7.7451 - val_loss: 13.9012 - val_mean_absolute_percentage_error: 11.2691\n",
      "Epoch 80/100\n",
      "270/270 [==============================] - 1s 4ms/sample - loss: 4.1538 - mean_absolute_percentage_error: 7.8108 - val_loss: 13.9913 - val_mean_absolute_percentage_error: 11.5546\n",
      "Epoch 81/100\n",
      "270/270 [==============================] - 1s 4ms/sample - loss: 4.2354 - mean_absolute_percentage_error: 7.9582 - val_loss: 14.2108 - val_mean_absolute_percentage_error: 11.6108\n",
      "Epoch 82/100\n",
      "270/270 [==============================] - 1s 4ms/sample - loss: 4.2947 - mean_absolute_percentage_error: 8.0847 - val_loss: 14.6547 - val_mean_absolute_percentage_error: 11.8765\n",
      "Epoch 83/100\n",
      "270/270 [==============================] - 1s 4ms/sample - loss: 4.2571 - mean_absolute_percentage_error: 7.9481 - val_loss: 14.9732 - val_mean_absolute_percentage_error: 11.7115\n",
      "Epoch 84/100\n",
      "270/270 [==============================] - 1s 4ms/sample - loss: 4.3017 - mean_absolute_percentage_error: 7.7841 - val_loss: 14.2527 - val_mean_absolute_percentage_error: 11.3956\n",
      "Epoch 85/100\n",
      "270/270 [==============================] - 1s 4ms/sample - loss: 4.3623 - mean_absolute_percentage_error: 7.9384 - val_loss: 14.0263 - val_mean_absolute_percentage_error: 11.3636\n",
      "Epoch 86/100\n",
      "270/270 [==============================] - 1s 4ms/sample - loss: 4.0713 - mean_absolute_percentage_error: 7.4223 - val_loss: 14.2740 - val_mean_absolute_percentage_error: 11.9802\n",
      "Epoch 87/100\n",
      "270/270 [==============================] - 1s 4ms/sample - loss: 4.1710 - mean_absolute_percentage_error: 7.6754 - val_loss: 14.6304 - val_mean_absolute_percentage_error: 12.2238\n",
      "Epoch 88/100\n",
      "270/270 [==============================] - 1s 4ms/sample - loss: 4.1006 - mean_absolute_percentage_error: 7.5037 - val_loss: 14.3042 - val_mean_absolute_percentage_error: 11.5244\n",
      "Epoch 89/100\n",
      "270/270 [==============================] - 1s 4ms/sample - loss: 3.9675 - mean_absolute_percentage_error: 7.7924 - val_loss: 13.9204 - val_mean_absolute_percentage_error: 11.3335\n",
      "Epoch 90/100\n",
      "270/270 [==============================] - 1s 4ms/sample - loss: 3.9120 - mean_absolute_percentage_error: 7.6343 - val_loss: 14.9099 - val_mean_absolute_percentage_error: 11.5530\n",
      "Epoch 91/100\n",
      "270/270 [==============================] - 1s 4ms/sample - loss: 4.0585 - mean_absolute_percentage_error: 7.5917 - val_loss: 14.0244 - val_mean_absolute_percentage_error: 11.4917\n",
      "Epoch 92/100\n",
      "270/270 [==============================] - 1s 4ms/sample - loss: 3.9617 - mean_absolute_percentage_error: 7.6793 - val_loss: 14.5719 - val_mean_absolute_percentage_error: 11.3701\n",
      "Epoch 93/100\n",
      "270/270 [==============================] - 1s 4ms/sample - loss: 3.8452 - mean_absolute_percentage_error: 7.3935 - val_loss: 14.5081 - val_mean_absolute_percentage_error: 11.7790\n",
      "Epoch 94/100\n",
      "270/270 [==============================] - 1s 4ms/sample - loss: 3.9383 - mean_absolute_percentage_error: 7.7006 - val_loss: 14.1481 - val_mean_absolute_percentage_error: 11.3499\n",
      "Epoch 95/100\n",
      "270/270 [==============================] - 1s 4ms/sample - loss: 4.0156 - mean_absolute_percentage_error: 7.6247 - val_loss: 14.2528 - val_mean_absolute_percentage_error: 11.4783\n",
      "Epoch 96/100\n",
      "270/270 [==============================] - 1s 4ms/sample - loss: 3.9113 - mean_absolute_percentage_error: 7.7220 - val_loss: 14.5111 - val_mean_absolute_percentage_error: 11.2745\n",
      "Epoch 97/100\n",
      "270/270 [==============================] - 1s 4ms/sample - loss: 3.8576 - mean_absolute_percentage_error: 7.5204 - val_loss: 14.2253 - val_mean_absolute_percentage_error: 11.5425\n",
      "Epoch 98/100\n",
      "270/270 [==============================] - 1s 4ms/sample - loss: 3.8228 - mean_absolute_percentage_error: 7.4390 - val_loss: 14.6775 - val_mean_absolute_percentage_error: 11.5772\n",
      "Epoch 99/100\n",
      "270/270 [==============================] - 1s 4ms/sample - loss: 3.9583 - mean_absolute_percentage_error: 7.6985 - val_loss: 14.1400 - val_mean_absolute_percentage_error: 11.7160\n",
      "Epoch 100/100\n",
      "270/270 [==============================] - 1s 4ms/sample - loss: 3.6996 - mean_absolute_percentage_error: 7.4810 - val_loss: 13.6230 - val_mean_absolute_percentage_error: 11.2395\n"
     ]
    }
   ],
   "source": [
    "history_64 = model_64.fit(x_train_scaled,\n",
    "                          y_train,\n",
    "                          epochs=100,\n",
    "                          batch_size=1,\n",
    "                          validation_split=0.33,\n",
    "                          verbose=1)"
   ]
  },
  {
   "cell_type": "code",
   "execution_count": 0,
   "metadata": {
    "colab": {},
    "colab_type": "code",
    "id": "Jiz2vryToP3L"
   },
   "outputs": [],
   "source": [
    "### Сеть с 128 нейронами\n",
    "model_128 = keras.models.Sequential()\n",
    "model_128.add(keras.layers.Dense(128, activation='relu', input_shape=(13, ), name='hidden_128'))\n",
    "model_128.add(keras.layers.Dense(1, name='output_128'))\n",
    "model_128.compile(optimizer='adam', loss='mse', metrics=['mape'])"
   ]
  },
  {
   "cell_type": "code",
   "execution_count": 0,
   "metadata": {
    "colab": {
     "base_uri": "https://localhost:8080/",
     "height": 1000
    },
    "colab_type": "code",
    "id": "Sg5stNaooQEm",
    "outputId": "21988489-a053-4169-dd53-33b14d9416e1"
   },
   "outputs": [
    {
     "name": "stdout",
     "output_type": "stream",
     "text": [
      "Train on 270 samples, validate on 134 samples\n",
      "Epoch 1/100\n",
      "270/270 [==============================] - 1s 4ms/sample - loss: 353.8360 - mean_absolute_percentage_error: 75.3809 - val_loss: 199.7231 - val_mean_absolute_percentage_error: 44.7112\n",
      "Epoch 2/100\n",
      "270/270 [==============================] - 1s 4ms/sample - loss: 65.4693 - mean_absolute_percentage_error: 27.7261 - val_loss: 71.6796 - val_mean_absolute_percentage_error: 25.0649\n",
      "Epoch 3/100\n",
      "270/270 [==============================] - 1s 4ms/sample - loss: 30.0546 - mean_absolute_percentage_error: 19.4061 - val_loss: 51.5983 - val_mean_absolute_percentage_error: 20.1988\n",
      "Epoch 4/100\n",
      "270/270 [==============================] - 1s 4ms/sample - loss: 23.5145 - mean_absolute_percentage_error: 17.2052 - val_loss: 42.7430 - val_mean_absolute_percentage_error: 18.0598\n",
      "Epoch 5/100\n",
      "270/270 [==============================] - 1s 4ms/sample - loss: 20.5562 - mean_absolute_percentage_error: 16.0836 - val_loss: 37.3256 - val_mean_absolute_percentage_error: 16.9302\n",
      "Epoch 6/100\n",
      "270/270 [==============================] - 1s 4ms/sample - loss: 18.6674 - mean_absolute_percentage_error: 15.4110 - val_loss: 35.0883 - val_mean_absolute_percentage_error: 16.1692\n",
      "Epoch 7/100\n",
      "270/270 [==============================] - 1s 4ms/sample - loss: 16.9369 - mean_absolute_percentage_error: 15.2019 - val_loss: 29.8691 - val_mean_absolute_percentage_error: 14.7704\n",
      "Epoch 8/100\n",
      "270/270 [==============================] - 1s 4ms/sample - loss: 15.1698 - mean_absolute_percentage_error: 14.3012 - val_loss: 28.1245 - val_mean_absolute_percentage_error: 14.5765\n",
      "Epoch 9/100\n",
      "270/270 [==============================] - 1s 4ms/sample - loss: 13.7268 - mean_absolute_percentage_error: 13.5866 - val_loss: 24.7599 - val_mean_absolute_percentage_error: 14.5397\n",
      "Epoch 10/100\n",
      "270/270 [==============================] - 1s 4ms/sample - loss: 12.7099 - mean_absolute_percentage_error: 13.0678 - val_loss: 22.5846 - val_mean_absolute_percentage_error: 13.3552\n",
      "Epoch 11/100\n",
      "270/270 [==============================] - 1s 4ms/sample - loss: 11.6444 - mean_absolute_percentage_error: 12.5311 - val_loss: 21.2786 - val_mean_absolute_percentage_error: 12.7355\n",
      "Epoch 12/100\n",
      "270/270 [==============================] - 1s 4ms/sample - loss: 10.3006 - mean_absolute_percentage_error: 11.7502 - val_loss: 20.3626 - val_mean_absolute_percentage_error: 12.7250\n",
      "Epoch 13/100\n",
      "270/270 [==============================] - 1s 4ms/sample - loss: 9.5197 - mean_absolute_percentage_error: 11.3896 - val_loss: 18.7931 - val_mean_absolute_percentage_error: 12.0088\n",
      "Epoch 14/100\n",
      "270/270 [==============================] - 1s 4ms/sample - loss: 9.0567 - mean_absolute_percentage_error: 11.0819 - val_loss: 18.0809 - val_mean_absolute_percentage_error: 12.0372\n",
      "Epoch 15/100\n",
      "270/270 [==============================] - 1s 4ms/sample - loss: 8.6901 - mean_absolute_percentage_error: 11.0021 - val_loss: 17.2341 - val_mean_absolute_percentage_error: 11.8416\n",
      "Epoch 16/100\n",
      "270/270 [==============================] - 1s 4ms/sample - loss: 8.1235 - mean_absolute_percentage_error: 10.4820 - val_loss: 16.1483 - val_mean_absolute_percentage_error: 12.0909\n",
      "Epoch 17/100\n",
      "270/270 [==============================] - 1s 4ms/sample - loss: 7.8354 - mean_absolute_percentage_error: 10.5354 - val_loss: 16.5756 - val_mean_absolute_percentage_error: 12.2265\n",
      "Epoch 18/100\n",
      "270/270 [==============================] - 1s 4ms/sample - loss: 7.4841 - mean_absolute_percentage_error: 10.2926 - val_loss: 15.6743 - val_mean_absolute_percentage_error: 11.9278\n",
      "Epoch 19/100\n",
      "270/270 [==============================] - 1s 4ms/sample - loss: 7.2631 - mean_absolute_percentage_error: 10.1694 - val_loss: 16.6265 - val_mean_absolute_percentage_error: 12.3312\n",
      "Epoch 20/100\n",
      "270/270 [==============================] - 1s 4ms/sample - loss: 7.0380 - mean_absolute_percentage_error: 9.6894 - val_loss: 16.0643 - val_mean_absolute_percentage_error: 12.4146\n",
      "Epoch 21/100\n",
      "270/270 [==============================] - 1s 4ms/sample - loss: 7.0271 - mean_absolute_percentage_error: 10.2302 - val_loss: 15.6268 - val_mean_absolute_percentage_error: 11.6715\n",
      "Epoch 22/100\n",
      "270/270 [==============================] - 1s 4ms/sample - loss: 6.5984 - mean_absolute_percentage_error: 9.9447 - val_loss: 16.1490 - val_mean_absolute_percentage_error: 11.8587\n",
      "Epoch 23/100\n",
      "270/270 [==============================] - 1s 4ms/sample - loss: 6.3805 - mean_absolute_percentage_error: 9.1790 - val_loss: 15.3481 - val_mean_absolute_percentage_error: 12.1488\n",
      "Epoch 24/100\n",
      "270/270 [==============================] - 1s 4ms/sample - loss: 6.3969 - mean_absolute_percentage_error: 9.9940 - val_loss: 15.3520 - val_mean_absolute_percentage_error: 11.8005\n",
      "Epoch 25/100\n",
      "270/270 [==============================] - 1s 4ms/sample - loss: 6.1486 - mean_absolute_percentage_error: 9.3734 - val_loss: 15.1388 - val_mean_absolute_percentage_error: 12.6772\n",
      "Epoch 26/100\n",
      "270/270 [==============================] - 1s 4ms/sample - loss: 6.4456 - mean_absolute_percentage_error: 9.6928 - val_loss: 15.2165 - val_mean_absolute_percentage_error: 11.6872\n",
      "Epoch 27/100\n",
      "270/270 [==============================] - 1s 4ms/sample - loss: 6.0454 - mean_absolute_percentage_error: 9.3616 - val_loss: 14.9147 - val_mean_absolute_percentage_error: 11.8189\n",
      "Epoch 28/100\n",
      "270/270 [==============================] - 1s 4ms/sample - loss: 5.8239 - mean_absolute_percentage_error: 9.2294 - val_loss: 16.3395 - val_mean_absolute_percentage_error: 12.5433\n",
      "Epoch 29/100\n",
      "270/270 [==============================] - 1s 4ms/sample - loss: 6.0100 - mean_absolute_percentage_error: 9.1804 - val_loss: 15.0756 - val_mean_absolute_percentage_error: 11.7195\n",
      "Epoch 30/100\n",
      "270/270 [==============================] - 1s 4ms/sample - loss: 5.5715 - mean_absolute_percentage_error: 9.2024 - val_loss: 15.5060 - val_mean_absolute_percentage_error: 11.9288\n",
      "Epoch 31/100\n",
      "270/270 [==============================] - 1s 4ms/sample - loss: 5.4916 - mean_absolute_percentage_error: 8.9947 - val_loss: 16.3753 - val_mean_absolute_percentage_error: 12.0920\n",
      "Epoch 32/100\n",
      "270/270 [==============================] - 1s 4ms/sample - loss: 5.6989 - mean_absolute_percentage_error: 8.8492 - val_loss: 15.4451 - val_mean_absolute_percentage_error: 12.3599\n",
      "Epoch 33/100\n",
      "270/270 [==============================] - 1s 4ms/sample - loss: 5.4951 - mean_absolute_percentage_error: 9.0525 - val_loss: 15.5610 - val_mean_absolute_percentage_error: 12.0191\n",
      "Epoch 34/100\n",
      "270/270 [==============================] - 1s 4ms/sample - loss: 5.3315 - mean_absolute_percentage_error: 8.8417 - val_loss: 14.6933 - val_mean_absolute_percentage_error: 12.2408\n",
      "Epoch 35/100\n",
      "270/270 [==============================] - 1s 4ms/sample - loss: 5.5345 - mean_absolute_percentage_error: 9.0028 - val_loss: 15.0042 - val_mean_absolute_percentage_error: 11.5578\n",
      "Epoch 36/100\n",
      "270/270 [==============================] - 1s 4ms/sample - loss: 5.4193 - mean_absolute_percentage_error: 8.6541 - val_loss: 15.0732 - val_mean_absolute_percentage_error: 11.8421\n",
      "Epoch 37/100\n",
      "270/270 [==============================] - 1s 4ms/sample - loss: 5.1558 - mean_absolute_percentage_error: 8.3945 - val_loss: 14.9116 - val_mean_absolute_percentage_error: 11.6825\n",
      "Epoch 38/100\n",
      "270/270 [==============================] - 1s 4ms/sample - loss: 5.1937 - mean_absolute_percentage_error: 8.5467 - val_loss: 15.0228 - val_mean_absolute_percentage_error: 11.6766\n",
      "Epoch 39/100\n",
      "270/270 [==============================] - 1s 4ms/sample - loss: 5.3627 - mean_absolute_percentage_error: 8.5672 - val_loss: 14.7978 - val_mean_absolute_percentage_error: 11.6015\n",
      "Epoch 40/100\n",
      "270/270 [==============================] - 1s 4ms/sample - loss: 4.8564 - mean_absolute_percentage_error: 8.4073 - val_loss: 14.9535 - val_mean_absolute_percentage_error: 11.8292\n",
      "Epoch 41/100\n",
      "270/270 [==============================] - 1s 4ms/sample - loss: 5.0025 - mean_absolute_percentage_error: 8.5938 - val_loss: 14.3914 - val_mean_absolute_percentage_error: 11.7332\n",
      "Epoch 42/100\n",
      "270/270 [==============================] - 1s 4ms/sample - loss: 5.1082 - mean_absolute_percentage_error: 8.4876 - val_loss: 14.9399 - val_mean_absolute_percentage_error: 12.1784\n",
      "Epoch 43/100\n",
      "270/270 [==============================] - 1s 4ms/sample - loss: 4.9038 - mean_absolute_percentage_error: 8.4052 - val_loss: 15.2070 - val_mean_absolute_percentage_error: 13.3168\n",
      "Epoch 44/100\n",
      "270/270 [==============================] - 1s 4ms/sample - loss: 5.1391 - mean_absolute_percentage_error: 8.6018 - val_loss: 14.7272 - val_mean_absolute_percentage_error: 11.6692\n",
      "Epoch 45/100\n",
      "270/270 [==============================] - 1s 4ms/sample - loss: 4.6669 - mean_absolute_percentage_error: 7.9743 - val_loss: 15.7462 - val_mean_absolute_percentage_error: 12.4239\n",
      "Epoch 46/100\n",
      "270/270 [==============================] - 1s 4ms/sample - loss: 5.0764 - mean_absolute_percentage_error: 8.6887 - val_loss: 14.1983 - val_mean_absolute_percentage_error: 11.4076\n",
      "Epoch 47/100\n",
      "270/270 [==============================] - 1s 4ms/sample - loss: 4.6943 - mean_absolute_percentage_error: 8.2119 - val_loss: 14.3839 - val_mean_absolute_percentage_error: 11.8678\n",
      "Epoch 48/100\n",
      "270/270 [==============================] - 1s 4ms/sample - loss: 4.7895 - mean_absolute_percentage_error: 8.3190 - val_loss: 14.6267 - val_mean_absolute_percentage_error: 12.0237\n",
      "Epoch 49/100\n",
      "270/270 [==============================] - 1s 4ms/sample - loss: 4.6635 - mean_absolute_percentage_error: 7.9558 - val_loss: 14.3476 - val_mean_absolute_percentage_error: 12.4424\n",
      "Epoch 50/100\n",
      "270/270 [==============================] - 1s 4ms/sample - loss: 4.6247 - mean_absolute_percentage_error: 7.9970 - val_loss: 14.6323 - val_mean_absolute_percentage_error: 12.0071\n",
      "Epoch 51/100\n",
      "270/270 [==============================] - 1s 4ms/sample - loss: 4.8208 - mean_absolute_percentage_error: 8.4045 - val_loss: 15.1756 - val_mean_absolute_percentage_error: 11.8534\n",
      "Epoch 52/100\n",
      "270/270 [==============================] - 1s 4ms/sample - loss: 4.8212 - mean_absolute_percentage_error: 8.4515 - val_loss: 14.5594 - val_mean_absolute_percentage_error: 11.7280\n",
      "Epoch 53/100\n",
      "270/270 [==============================] - 1s 4ms/sample - loss: 4.6719 - mean_absolute_percentage_error: 8.2085 - val_loss: 14.2233 - val_mean_absolute_percentage_error: 11.5819\n",
      "Epoch 54/100\n",
      "270/270 [==============================] - 1s 4ms/sample - loss: 4.4794 - mean_absolute_percentage_error: 8.3245 - val_loss: 13.7600 - val_mean_absolute_percentage_error: 11.8547\n",
      "Epoch 55/100\n",
      "270/270 [==============================] - 1s 4ms/sample - loss: 4.4207 - mean_absolute_percentage_error: 8.2179 - val_loss: 14.2033 - val_mean_absolute_percentage_error: 11.6799\n",
      "Epoch 56/100\n",
      "270/270 [==============================] - 1s 4ms/sample - loss: 4.5511 - mean_absolute_percentage_error: 8.0718 - val_loss: 13.8144 - val_mean_absolute_percentage_error: 11.3890\n",
      "Epoch 57/100\n",
      "270/270 [==============================] - 1s 4ms/sample - loss: 4.4343 - mean_absolute_percentage_error: 8.0168 - val_loss: 15.3142 - val_mean_absolute_percentage_error: 11.9988\n",
      "Epoch 58/100\n",
      "270/270 [==============================] - 1s 4ms/sample - loss: 4.2622 - mean_absolute_percentage_error: 7.8610 - val_loss: 13.9303 - val_mean_absolute_percentage_error: 11.4548\n",
      "Epoch 59/100\n",
      "270/270 [==============================] - 1s 4ms/sample - loss: 4.3313 - mean_absolute_percentage_error: 7.6764 - val_loss: 15.2555 - val_mean_absolute_percentage_error: 13.6185\n",
      "Epoch 60/100\n",
      "270/270 [==============================] - 1s 4ms/sample - loss: 4.1794 - mean_absolute_percentage_error: 8.0046 - val_loss: 14.2938 - val_mean_absolute_percentage_error: 11.8117\n",
      "Epoch 61/100\n",
      "270/270 [==============================] - 1s 4ms/sample - loss: 4.4066 - mean_absolute_percentage_error: 7.9843 - val_loss: 14.6932 - val_mean_absolute_percentage_error: 11.9051\n",
      "Epoch 62/100\n",
      "270/270 [==============================] - 1s 4ms/sample - loss: 4.1434 - mean_absolute_percentage_error: 7.8667 - val_loss: 14.4884 - val_mean_absolute_percentage_error: 11.5516\n",
      "Epoch 63/100\n",
      "270/270 [==============================] - 1s 4ms/sample - loss: 4.1394 - mean_absolute_percentage_error: 7.9361 - val_loss: 14.3103 - val_mean_absolute_percentage_error: 11.7026\n",
      "Epoch 64/100\n",
      "270/270 [==============================] - 1s 4ms/sample - loss: 4.2346 - mean_absolute_percentage_error: 7.6803 - val_loss: 14.3198 - val_mean_absolute_percentage_error: 11.9976\n",
      "Epoch 65/100\n",
      "270/270 [==============================] - 1s 4ms/sample - loss: 4.2158 - mean_absolute_percentage_error: 8.1881 - val_loss: 14.6265 - val_mean_absolute_percentage_error: 11.9708\n",
      "Epoch 66/100\n",
      "270/270 [==============================] - 1s 4ms/sample - loss: 4.1275 - mean_absolute_percentage_error: 7.4639 - val_loss: 14.6691 - val_mean_absolute_percentage_error: 11.5236\n",
      "Epoch 67/100\n",
      "270/270 [==============================] - 1s 4ms/sample - loss: 4.0775 - mean_absolute_percentage_error: 7.7765 - val_loss: 13.9658 - val_mean_absolute_percentage_error: 11.4892\n",
      "Epoch 68/100\n",
      "270/270 [==============================] - 1s 4ms/sample - loss: 3.8794 - mean_absolute_percentage_error: 7.6730 - val_loss: 14.0854 - val_mean_absolute_percentage_error: 11.6021\n",
      "Epoch 69/100\n",
      "270/270 [==============================] - 1s 4ms/sample - loss: 4.0534 - mean_absolute_percentage_error: 7.8321 - val_loss: 14.7507 - val_mean_absolute_percentage_error: 11.9294\n",
      "Epoch 70/100\n",
      "270/270 [==============================] - 1s 4ms/sample - loss: 4.1024 - mean_absolute_percentage_error: 7.7052 - val_loss: 13.8337 - val_mean_absolute_percentage_error: 11.6046\n",
      "Epoch 71/100\n",
      "270/270 [==============================] - 1s 4ms/sample - loss: 4.0380 - mean_absolute_percentage_error: 7.8712 - val_loss: 14.7330 - val_mean_absolute_percentage_error: 11.8809\n",
      "Epoch 72/100\n",
      "270/270 [==============================] - 1s 4ms/sample - loss: 3.8615 - mean_absolute_percentage_error: 7.7501 - val_loss: 15.5445 - val_mean_absolute_percentage_error: 12.5271\n",
      "Epoch 73/100\n",
      "270/270 [==============================] - 1s 4ms/sample - loss: 4.1607 - mean_absolute_percentage_error: 7.9405 - val_loss: 14.0582 - val_mean_absolute_percentage_error: 11.5522\n",
      "Epoch 74/100\n",
      "270/270 [==============================] - 1s 4ms/sample - loss: 3.9661 - mean_absolute_percentage_error: 7.6286 - val_loss: 14.7750 - val_mean_absolute_percentage_error: 12.0210\n",
      "Epoch 75/100\n",
      "270/270 [==============================] - 1s 4ms/sample - loss: 3.7710 - mean_absolute_percentage_error: 7.4635 - val_loss: 14.1846 - val_mean_absolute_percentage_error: 12.2376\n",
      "Epoch 76/100\n",
      "270/270 [==============================] - 1s 4ms/sample - loss: 3.9501 - mean_absolute_percentage_error: 7.5222 - val_loss: 14.5725 - val_mean_absolute_percentage_error: 12.2117\n",
      "Epoch 77/100\n",
      "270/270 [==============================] - 1s 4ms/sample - loss: 3.9879 - mean_absolute_percentage_error: 7.7437 - val_loss: 14.3353 - val_mean_absolute_percentage_error: 12.0324\n",
      "Epoch 78/100\n",
      "270/270 [==============================] - 1s 4ms/sample - loss: 3.7784 - mean_absolute_percentage_error: 7.4195 - val_loss: 13.9763 - val_mean_absolute_percentage_error: 12.4173\n",
      "Epoch 79/100\n",
      "270/270 [==============================] - 1s 4ms/sample - loss: 3.8648 - mean_absolute_percentage_error: 7.6794 - val_loss: 13.7742 - val_mean_absolute_percentage_error: 11.8475\n",
      "Epoch 80/100\n",
      "270/270 [==============================] - 1s 4ms/sample - loss: 3.8067 - mean_absolute_percentage_error: 7.3340 - val_loss: 14.2117 - val_mean_absolute_percentage_error: 11.8970\n",
      "Epoch 81/100\n",
      "270/270 [==============================] - 1s 4ms/sample - loss: 3.6523 - mean_absolute_percentage_error: 7.5462 - val_loss: 14.8468 - val_mean_absolute_percentage_error: 12.4512\n",
      "Epoch 82/100\n",
      "270/270 [==============================] - 1s 4ms/sample - loss: 3.7416 - mean_absolute_percentage_error: 7.2245 - val_loss: 14.4612 - val_mean_absolute_percentage_error: 12.1523\n",
      "Epoch 83/100\n",
      "270/270 [==============================] - 1s 4ms/sample - loss: 3.6982 - mean_absolute_percentage_error: 7.0474 - val_loss: 14.2696 - val_mean_absolute_percentage_error: 12.5479\n",
      "Epoch 84/100\n",
      "270/270 [==============================] - 1s 4ms/sample - loss: 3.9096 - mean_absolute_percentage_error: 7.3560 - val_loss: 14.6220 - val_mean_absolute_percentage_error: 12.7246\n",
      "Epoch 85/100\n",
      "270/270 [==============================] - 1s 4ms/sample - loss: 3.7571 - mean_absolute_percentage_error: 7.6110 - val_loss: 14.5121 - val_mean_absolute_percentage_error: 11.9271\n",
      "Epoch 86/100\n",
      "270/270 [==============================] - 1s 4ms/sample - loss: 3.5819 - mean_absolute_percentage_error: 7.1417 - val_loss: 13.5049 - val_mean_absolute_percentage_error: 11.3771\n",
      "Epoch 87/100\n",
      "270/270 [==============================] - 1s 4ms/sample - loss: 3.4664 - mean_absolute_percentage_error: 7.1148 - val_loss: 13.9681 - val_mean_absolute_percentage_error: 11.3277\n",
      "Epoch 88/100\n",
      "270/270 [==============================] - 1s 4ms/sample - loss: 3.4669 - mean_absolute_percentage_error: 7.1964 - val_loss: 13.3356 - val_mean_absolute_percentage_error: 11.7362\n",
      "Epoch 89/100\n",
      "270/270 [==============================] - 1s 4ms/sample - loss: 3.7061 - mean_absolute_percentage_error: 7.5782 - val_loss: 13.8335 - val_mean_absolute_percentage_error: 12.1775\n",
      "Epoch 90/100\n",
      "270/270 [==============================] - 1s 4ms/sample - loss: 3.8706 - mean_absolute_percentage_error: 7.2962 - val_loss: 14.2431 - val_mean_absolute_percentage_error: 12.4237\n",
      "Epoch 91/100\n",
      "270/270 [==============================] - 1s 4ms/sample - loss: 3.6830 - mean_absolute_percentage_error: 7.6516 - val_loss: 13.7885 - val_mean_absolute_percentage_error: 11.9175\n",
      "Epoch 92/100\n",
      "270/270 [==============================] - 1s 4ms/sample - loss: 3.5659 - mean_absolute_percentage_error: 7.3723 - val_loss: 13.4993 - val_mean_absolute_percentage_error: 11.7531\n",
      "Epoch 93/100\n",
      "270/270 [==============================] - 1s 4ms/sample - loss: 3.3430 - mean_absolute_percentage_error: 7.0745 - val_loss: 14.0242 - val_mean_absolute_percentage_error: 11.6755\n",
      "Epoch 94/100\n",
      "270/270 [==============================] - 1s 4ms/sample - loss: 3.4728 - mean_absolute_percentage_error: 7.0589 - val_loss: 13.5717 - val_mean_absolute_percentage_error: 11.4711\n",
      "Epoch 95/100\n",
      "270/270 [==============================] - 1s 4ms/sample - loss: 3.3200 - mean_absolute_percentage_error: 7.1294 - val_loss: 14.1496 - val_mean_absolute_percentage_error: 11.9728\n",
      "Epoch 96/100\n",
      "270/270 [==============================] - 1s 4ms/sample - loss: 3.4371 - mean_absolute_percentage_error: 6.7538 - val_loss: 13.8565 - val_mean_absolute_percentage_error: 11.5276\n",
      "Epoch 97/100\n",
      "270/270 [==============================] - 1s 4ms/sample - loss: 3.5164 - mean_absolute_percentage_error: 7.3881 - val_loss: 13.4353 - val_mean_absolute_percentage_error: 11.4693\n",
      "Epoch 98/100\n",
      "270/270 [==============================] - 1s 4ms/sample - loss: 3.3817 - mean_absolute_percentage_error: 7.1406 - val_loss: 13.5347 - val_mean_absolute_percentage_error: 11.3271\n",
      "Epoch 99/100\n",
      "270/270 [==============================] - 1s 4ms/sample - loss: 3.1798 - mean_absolute_percentage_error: 6.7447 - val_loss: 15.2501 - val_mean_absolute_percentage_error: 12.4728\n",
      "Epoch 100/100\n",
      "270/270 [==============================] - 1s 4ms/sample - loss: 3.3912 - mean_absolute_percentage_error: 7.4009 - val_loss: 13.8022 - val_mean_absolute_percentage_error: 12.6252\n"
     ]
    }
   ],
   "source": [
    "history_128 = model_128.fit(x_train_scaled,\n",
    "                            y_train,\n",
    "                            epochs=100,\n",
    "                            batch_size=1,\n",
    "                            validation_split=0.33,\n",
    "                            verbose=1)"
   ]
  },
  {
   "cell_type": "markdown",
   "metadata": {},
   "source": [
    "Проверим качество моделей:"
   ]
  },
  {
   "cell_type": "code",
   "execution_count": 0,
   "metadata": {
    "colab": {
     "base_uri": "https://localhost:8080/",
     "height": 281
    },
    "colab_type": "code",
    "id": "lnoFy5FUQgRu",
    "outputId": "c47dfc67-40c2-447f-e6ca-8394b955ea6c"
   },
   "outputs": [
    {
     "data": {
      "image/png": "[encoded data removed]",
      "text/plain": [
       "<Figure size 432x288 with 1 Axes>"
      ]
     },
     "metadata": {
      "tags": []
     },
     "output_type": "display_data"
    }
   ],
   "source": [
    "plt.plot(history_64.history['mean_absolute_percentage_error'], label='on train (64 neurons)')\n",
    "plt.plot(history_64.history['val_mean_absolute_percentage_error'], label='on valid (64 neurons)')\n",
    "plt.plot(history_128.history['mean_absolute_percentage_error'], label='on train (128 neurons)')\n",
    "plt.plot(history_128.history['val_mean_absolute_percentage_error'], label='on valid (128 neurons)')\n",
    "plt.title('MAPE in Learning History')\n",
    "plt.legend(loc='best')\n",
    "plt.grid(True)\n",
    "plt.show()"
   ]
  },
  {
   "cell_type": "code",
   "execution_count": 0,
   "metadata": {
    "colab": {
     "base_uri": "https://localhost:8080/",
     "height": 136
    },
    "colab_type": "code",
    "id": "DLZDPSadQgO4",
    "outputId": "48a026c1-e958-454f-8444-9301bfe91892"
   },
   "outputs": [
    {
     "name": "stdout",
     "output_type": "stream",
     "text": [
      "64 neurons in the hidden layer\n",
      " train_loss: 6.777, train_mape: 8.33%\n",
      " test_loss: 20.836, test_mape: 13.67%\n",
      "\n",
      "128 neurons in the hidden layer\n",
      " train_loss: 6.763, train_mape: 9.24%\n",
      " test_loss: 20.620, test_mape: 15.17%\n"
     ]
    }
   ],
   "source": [
    "print('64 neurons in the hidden layer')\n",
    "train_loss, train_mape = model_64.evaluate(x_train_scaled, y_train, verbose=0)\n",
    "test_loss, test_mape = model_64.evaluate(x_test_scaled, y_test, verbose=0)\n",
    "print(f' train_loss: {train_loss:.3f}, train_mape: {train_mape:.2f}%')\n",
    "print(f' test_loss: {test_loss:.3f}, test_mape: {test_mape:.2f}%')\n",
    "\n",
    "print('\\n128 neurons in the hidden layer')\n",
    "train_loss, train_mape = model_128.evaluate(x_train_scaled, y_train, verbose=0)\n",
    "test_loss, test_mape = model_128.evaluate(x_test_scaled, y_test, verbose=0)\n",
    "print(f' train_loss: {train_loss:.3f}, train_mape: {train_mape:.2f}%')\n",
    "print(f' test_loss: {test_loss:.3f}, test_mape: {test_mape:.2f}%')"
   ]
  },
  {
   "cell_type": "markdown",
   "metadata": {},
   "source": [
    "Сохраним веса обученных моделей:"
   ]
  },
  {
   "cell_type": "code",
   "execution_count": 0,
   "metadata": {
    "colab": {
     "base_uri": "https://localhost:8080/",
     "height": 34
    },
    "colab_type": "code",
    "id": "b1dcYRp3oU50",
    "outputId": "a4e4ea15-9a52-45d4-d6f2-8c394418351d"
   },
   "outputs": [
    {
     "name": "stdout",
     "output_type": "stream",
     "text": [
      "Drive already mounted at /content/drive; to attempt to forcibly remount, call drive.mount(\"/content/drive\", force_remount=True).\n"
     ]
    }
   ],
   "source": [
    "from google.colab import drive\n",
    "drive.mount('/content/drive')"
   ]
  },
  {
   "cell_type": "code",
   "execution_count": 0,
   "metadata": {
    "colab": {},
    "colab_type": "code",
    "id": "rtWd5gvqz-TB"
   },
   "outputs": [],
   "source": [
    "model_64.save_weights('/content/drive/My Drive/model_64.h5')\n",
    "model_128.save_weights('/content/drive/My Drive/model_128.h5')"
   ]
  },
  {
   "cell_type": "markdown",
   "metadata": {},
   "source": [
    "Синтезируем общую сеть, которая бы обучалась и работала на *нешкалированных* исходных данных.."
   ]
  },
  {
   "cell_type": "code",
   "execution_count": 0,
   "metadata": {
    "colab": {},
    "colab_type": "code",
    "id": "KUnT6tsMrt09"
   },
   "outputs": [],
   "source": [
    "### Стандартизация для лямбда-функции\n",
    "def standard_scaling(x):\n",
    "    return (x - means)/ stds"
   ]
  },
  {
   "cell_type": "code",
   "execution_count": 0,
   "metadata": {
    "colab": {},
    "colab_type": "code",
    "id": "Fy2L9jfms5BQ"
   },
   "outputs": [],
   "source": [
    "### 13 входов для входных признаков, которые стандартизирует лямбда-функция\n",
    "inputs = keras.layers.Input(shape=(13,), name='input')\n",
    "inputs_scaled = keras.layers.Lambda(standard_scaling, name='standard_scaling')(inputs)"
   ]
  },
  {
   "cell_type": "code",
   "execution_count": 0,
   "metadata": {
    "colab": {},
    "colab_type": "code",
    "id": "xXb2TxcqtH3U"
   },
   "outputs": [],
   "source": [
    "# 64 нейрона скрытого слоя и 1 выходной\n",
    "hiddens_64 = keras.layers.Dense(64, activation='relu', name='hidden_64')(inputs_scaled)\n",
    "outputs_64 = keras.layers.Dense(1, activation='relu', name='output_64')(hiddens_64)\n",
    "part_64 = keras.models.Model(inputs=inputs, outputs=outputs_64)\n",
    "\n",
    "# 128 нейрона скрытого слоя и 1 выходной\n",
    "hiddens_128 = keras.layers.Dense(128, activation='relu', name='hidden_128')(inputs_scaled)\n",
    "outputs_128 = keras.layers.Dense(1, activation='relu', name='output_128')(hiddens_128)\n",
    "part_128 = keras.models.Model(inputs=inputs, outputs=outputs_128)"
   ]
  },
  {
   "cell_type": "code",
   "execution_count": 0,
   "metadata": {
    "colab": {},
    "colab_type": "code",
    "id": "g0Z7a4xWs5Vw"
   },
   "outputs": [],
   "source": [
    "### Загрузка сохраненных весов для соответствующих нейронов\n",
    "part_64.load_weights('/content/drive/My Drive/model_64.h5')\n",
    "part_128.load_weights('/content/drive/My Drive/model_128.h5')"
   ]
  },
  {
   "cell_type": "code",
   "execution_count": 0,
   "metadata": {
    "colab": {},
    "colab_type": "code",
    "id": "qxRYlT3rs5hQ"
   },
   "outputs": [],
   "source": [
    "### Усреднение выходов обеих сетей и объединение в общую сеть\n",
    "outputs = keras.layers.Average(name='average')([part_64.output, part_128.output])\n",
    "model_all = keras.models.Model(inputs=[inputs], outputs=outputs, name='model_all')"
   ]
  },
  {
   "cell_type": "markdown",
   "metadata": {},
   "source": [
    "Структура общей сети, которая работает с нешкалированными исходными данными:"
   ]
  },
  {
   "cell_type": "code",
   "execution_count": 0,
   "metadata": {
    "colab": {
     "base_uri": "https://localhost:8080/",
     "height": 408
    },
    "colab_type": "code",
    "id": "UlThTx6Ys5fc",
    "outputId": "9aaf441e-631e-4bd6-feb6-f3df83ebacaf"
   },
   "outputs": [
    {
     "name": "stdout",
     "output_type": "stream",
     "text": [
      "Model: \"model_all\"\n",
      "__________________________________________________________________________________________________\n",
      "Layer (type)                    Output Shape         Param #     Connected to                     \n",
      "==================================================================================================\n",
      "input (InputLayer)              [(None, 13)]         0                                            \n",
      "__________________________________________________________________________________________________\n",
      "standard_scaling (Lambda)       (None, 13)           0           input[0][0]                      \n",
      "__________________________________________________________________________________________________\n",
      "hidden_64 (Dense)               (None, 64)           896         standard_scaling[0][0]           \n",
      "__________________________________________________________________________________________________\n",
      "hidden_128 (Dense)              (None, 128)          1792        standard_scaling[0][0]           \n",
      "__________________________________________________________________________________________________\n",
      "output_64 (Dense)               (None, 1)            65          hidden_64[0][0]                  \n",
      "__________________________________________________________________________________________________\n",
      "output_128 (Dense)              (None, 1)            129         hidden_128[0][0]                 \n",
      "__________________________________________________________________________________________________\n",
      "average (Average)               (None, 1)            0           output_64[0][0]                  \n",
      "                                                                 output_128[0][0]                 \n",
      "==================================================================================================\n",
      "Total params: 2,882\n",
      "Trainable params: 2,882\n",
      "Non-trainable params: 0\n",
      "__________________________________________________________________________________________________\n"
     ]
    }
   ],
   "source": [
    "model_all.summary()"
   ]
  },
  {
   "cell_type": "code",
   "execution_count": 0,
   "metadata": {
    "colab": {
     "base_uri": "https://localhost:8080/",
     "height": 466
    },
    "colab_type": "code",
    "id": "r5nV8LKVs5Ga",
    "outputId": "225c092a-98d7-4d43-f5fb-2cccb142e9a4"
   },
   "outputs": [
    {
     "data": {
      "image/png": "[encoded data removed]",
      "text/plain": [
       "<IPython.core.display.Image object>"
      ]
     },
     "execution_count": 62,
     "metadata": {
      "tags": []
     },
     "output_type": "execute_result"
    }
   ],
   "source": [
    "from tensorflow.keras.utils import plot_model\n",
    "\n",
    "plot_model(model_all,to_file='/content/drive/My Drive/model_all.png')"
   ]
  },
  {
   "cell_type": "code",
   "execution_count": 0,
   "metadata": {
    "colab": {},
    "colab_type": "code",
    "id": "UwvyqGwfs5cH"
   },
   "outputs": [],
   "source": [
    "model_all.compile(optimizer='adam',\n",
    "                  loss='mse',\n",
    "                  metrics=['mape'])"
   ]
  },
  {
   "cell_type": "markdown",
   "metadata": {},
   "source": [
    "Проверка общей сети (результат - действительно, среднее между результатами сетей):"
   ]
  },
  {
   "cell_type": "code",
   "execution_count": 0,
   "metadata": {
    "colab": {
     "base_uri": "https://localhost:8080/",
     "height": 34
    },
    "colab_type": "code",
    "id": "8wZo46ZSs5S2",
    "outputId": "be1c9d3e-0c7b-4fc5-d490-8a639ee4abba"
   },
   "outputs": [
    {
     "name": "stdout",
     "output_type": "stream",
     "text": [
      "102/102 - 0s - loss: 20.3656 - mean_absolute_percentage_error: 14.1936\n"
     ]
    }
   ],
   "source": [
    "test_loss, test_mape = model_all.evaluate(x_test, y_test, verbose=2)"
   ]
  }
 ],
 "metadata": {
  "accelerator": "GPU",
  "colab": {
   "collapsed_sections": [],
   "name": "Untitled0.ipynb",
   "provenance": []
  },
  "kernelspec": {
   "display_name": "Python 3",
   "name": "python3"
  }
 },
 "nbformat": 4,
 "nbformat_minor": 1
}
