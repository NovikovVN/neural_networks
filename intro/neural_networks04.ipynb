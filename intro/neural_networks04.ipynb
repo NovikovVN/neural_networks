{
 "cells": [
  {
   "cell_type": "markdown",
   "metadata": {},
   "source": [
    "# Введение в искусственные нейронные сети\n",
    "# Урок 4. Сверточные нейронные сети"
   ]
  },
  {
   "cell_type": "markdown",
   "metadata": {},
   "source": [
    "## Практическое задание\n",
    "\n",
    "Вариант 1. (простой)\n",
    "\n",
    "- обучить сверточную нейронную сеть на датасете fashion-mnist\n",
    "- оценить рост точности при увеличении ширины сети (больше ядер)\n",
    "- оценить рост точности при увеличении глубины сети (больше слоев)\n",
    "    </li>\n",
    "\n",
    "Вариант 2. (сложный)\n",
    "- реализовать нейронную сеть в схеме AlexNet на сifar10.\n",
    "- оценить рост точности при увеличении ширины сети (больше ядер)\n",
    "- оценить рост точности при увеличении глубины сети (больше слоев)\n",
    "    </li>\n",
    "</ol>"
   ]
  },
  {
   "cell_type": "code",
   "execution_count": 0,
   "metadata": {
    "colab": {},
    "colab_type": "code",
    "id": "akIMdsemP229"
   },
   "outputs": [],
   "source": [
    "import numpy as np\n",
    "import matplotlib.pyplot as plt\n",
    "\n",
    "from tensorflow.keras.datasets import cifar10\n",
    "from tensorflow.keras.models import Sequential, Model\n",
    "from tensorflow.keras.layers import Dense, Flatten, Activation, Dropout\n",
    "from tensorflow.keras.layers import Conv2D, MaxPooling2D\n",
    "from tensorflow.keras.utils import to_categorical\n",
    "\n",
    "%matplotlib inline"
   ]
  },
  {
   "cell_type": "code",
   "execution_count": 0,
   "metadata": {
    "colab": {},
    "colab_type": "code",
    "id": "iG8EliMnQeDt"
   },
   "outputs": [],
   "source": [
    "### Загрузка данных cifar10\n",
    "(train_images, train_labels), (test_images, test_labels) = cifar10.load_data()"
   ]
  },
  {
   "cell_type": "markdown",
   "metadata": {},
   "source": [
    "**Посмотрим первое изображение для обучения:**"
   ]
  },
  {
   "cell_type": "code",
   "execution_count": 0,
   "metadata": {
    "colab": {
     "base_uri": "https://localhost:8080/",
     "height": 34
    },
    "colab_type": "code",
    "id": "0WA_cMMUQeIx",
    "outputId": "b279fc1a-4fd7-4706-eef2-24affded2347"
   },
   "outputs": [
    {
     "data": {
      "text/plain": [
       "(32, 32, 3)"
      ]
     },
     "execution_count": 184,
     "metadata": {
      "tags": []
     },
     "output_type": "execute_result"
    }
   ],
   "source": [
    "# Размер тензора\n",
    "train_images[0].shape"
   ]
  },
  {
   "cell_type": "code",
   "execution_count": 0,
   "metadata": {
    "colab": {
     "base_uri": "https://localhost:8080/",
     "height": 34
    },
    "colab_type": "code",
    "id": "TyhjiV46Sp9_",
    "outputId": "c9d1d84c-5409-40b1-f7c8-785fb1835c66"
   },
   "outputs": [
    {
     "data": {
      "text/plain": [
       "array([6], dtype=uint8)"
      ]
     },
     "execution_count": 185,
     "metadata": {
      "tags": []
     },
     "output_type": "execute_result"
    }
   ],
   "source": [
    "# Метка\n",
    "train_labels[0]"
   ]
  },
  {
   "cell_type": "code",
   "execution_count": 0,
   "metadata": {
    "colab": {
     "base_uri": "https://localhost:8080/",
     "height": 266
    },
    "colab_type": "code",
    "id": "ViVK9xa-QeUc",
    "outputId": "c41aa9db-201b-4d89-d748-759e85a7d448"
   },
   "outputs": [
    {
     "data": {
      "image/png": "[encoded data removed]",
      "text/plain": [
       "<Figure size 432x288 with 1 Axes>"
      ]
     },
     "metadata": {
      "tags": []
     },
     "output_type": "display_data"
    }
   ],
   "source": [
    "# Само изображение\n",
    "plt.imshow(train_images[0])\n",
    "plt.show()"
   ]
  },
  {
   "cell_type": "markdown",
   "metadata": {},
   "source": [
    "**Обработаем массивы для обучения и теста:**\n",
    " - стандартизируем тензоры;\n",
    " - кодируем метки."
   ]
  },
  {
   "cell_type": "code",
   "execution_count": 0,
   "metadata": {
    "colab": {},
    "colab_type": "code",
    "id": "ygYxkkJmQecX"
   },
   "outputs": [],
   "source": [
    "x_train = train_images.astype('float32') / 255\n",
    "x_test = test_images.astype('float32') / 255\n",
    "\n",
    "y_train = to_categorical(train_labels, 10) \n",
    "y_test = to_categorical(test_labels, 10) "
   ]
  },
  {
   "cell_type": "markdown",
   "metadata": {},
   "source": [
    "## Базовая модель"
   ]
  },
  {
   "cell_type": "markdown",
   "metadata": {},
   "source": [
    "Блок генерации признаков:\n",
    " - первый свёрточный слой: 16 фильтров 3х3\n",
    " - второй свёрточный слой: 16 фильтров 3х3\n",
    " - слой пулинга через взятие максимума фильтром 2х2\n",
    " - слой дропаута для регуляризации весов\n",
    " \n",
    "Блок классификации:\n",
    " - два полносвязных слоя по 64 нейрона\n",
    " - слой дропаута для регуляризации весов \n",
    " - выходной слой с 10 нейронами"
   ]
  },
  {
   "cell_type": "code",
   "execution_count": 0,
   "metadata": {
    "colab": {},
    "colab_type": "code",
    "id": "OXAG7THdQeiA"
   },
   "outputs": [],
   "source": [
    "base_model = Sequential(name='base_model')\n",
    "\n",
    "base_model.add(Conv2D(filters=16,\n",
    "                      kernel_size=(3, 3),\n",
    "                      activation='relu',\n",
    "                      input_shape=(32, 32, 3),\n",
    "                      padding='valid',\n",
    "                      data_format='channels_last',\n",
    "                      name='conv_1'))\n",
    "base_model.add(Conv2D(filters=16,\n",
    "                      kernel_size=(3, 3),\n",
    "                      activation='relu',\n",
    "                      data_format='channels_last',\n",
    "                      name='conv_2'))\n",
    "base_model.add(MaxPooling2D(pool_size=(2, 2),\n",
    "                            data_format='channels_last',\n",
    "                            name='pool_1'))\n",
    "base_model.add(Dropout(rate=0.3, seed=0, name='drop_1'))\n",
    "\n",
    "base_model.add(Flatten(name='flatten'))\n",
    "base_model.add(Dense(64, activation='relu', name='dense_1'))\n",
    "base_model.add(Dense(64, activation='relu', name='dense_2'))\n",
    "base_model.add(Dropout(rate=0.3, seed=0, name='drop_2'))\n",
    "\n",
    "base_model.add(Dense(10, activation='softmax', name='output'))"
   ]
  },
  {
   "cell_type": "code",
   "execution_count": 0,
   "metadata": {
    "colab": {
     "base_uri": "https://localhost:8080/",
     "height": 459
    },
    "colab_type": "code",
    "id": "VUXYeG_6Qefk",
    "outputId": "95f3e326-f025-43bc-e533-6f372452fc25"
   },
   "outputs": [
    {
     "name": "stdout",
     "output_type": "stream",
     "text": [
      "Model: \"base_model\"\n",
      "_________________________________________________________________\n",
      "Layer (type)                 Output Shape              Param #   \n",
      "=================================================================\n",
      "conv_1 (Conv2D)              (None, 30, 30, 16)        448       \n",
      "_________________________________________________________________\n",
      "conv_2 (Conv2D)              (None, 28, 28, 16)        2320      \n",
      "_________________________________________________________________\n",
      "pool_1 (MaxPooling2D)        (None, 14, 14, 16)        0         \n",
      "_________________________________________________________________\n",
      "drop_1 (Dropout)             (None, 14, 14, 16)        0         \n",
      "_________________________________________________________________\n",
      "flatten (Flatten)            (None, 3136)              0         \n",
      "_________________________________________________________________\n",
      "dense_1 (Dense)              (None, 64)                200768    \n",
      "_________________________________________________________________\n",
      "dense_2 (Dense)              (None, 64)                4160      \n",
      "_________________________________________________________________\n",
      "drop_2 (Dropout)             (None, 64)                0         \n",
      "_________________________________________________________________\n",
      "output (Dense)               (None, 10)                650       \n",
      "=================================================================\n",
      "Total params: 208,346\n",
      "Trainable params: 208,346\n",
      "Non-trainable params: 0\n",
      "_________________________________________________________________\n"
     ]
    }
   ],
   "source": [
    "base_model.summary()"
   ]
  },
  {
   "cell_type": "code",
   "execution_count": 0,
   "metadata": {
    "colab": {},
    "colab_type": "code",
    "id": "6ITBdwMgQem6"
   },
   "outputs": [],
   "source": [
    "base_model.compile(optimizer='adam',\n",
    "                   loss='categorical_crossentropy',\n",
    "                   metrics=['accuracy'])"
   ]
  },
  {
   "cell_type": "code",
   "execution_count": 0,
   "metadata": {
    "colab": {
     "base_uri": "https://localhost:8080/",
     "height": 714
    },
    "colab_type": "code",
    "id": "TH1SR3PkQeY5",
    "outputId": "91185e10-a0ee-4d36-c246-56951725a9c6"
   },
   "outputs": [
    {
     "name": "stdout",
     "output_type": "stream",
     "text": [
      "Train on 45000 samples, validate on 5000 samples\n",
      "Epoch 1/20\n",
      "45000/45000 [==============================] - 7s 161us/sample - loss: 1.5983 - acc: 0.4173 - val_loss: 1.2569 - val_acc: 0.5688\n",
      "Epoch 2/20\n",
      "45000/45000 [==============================] - 6s 141us/sample - loss: 1.2804 - acc: 0.5472 - val_loss: 1.1459 - val_acc: 0.5982\n",
      "Epoch 3/20\n",
      "45000/45000 [==============================] - 6s 140us/sample - loss: 1.1587 - acc: 0.5938 - val_loss: 1.0555 - val_acc: 0.6320\n",
      "Epoch 4/20\n",
      "45000/45000 [==============================] - 6s 140us/sample - loss: 1.0719 - acc: 0.6250 - val_loss: 0.9917 - val_acc: 0.6566\n",
      "Epoch 5/20\n",
      "45000/45000 [==============================] - 6s 140us/sample - loss: 1.0102 - acc: 0.6486 - val_loss: 0.9657 - val_acc: 0.6586\n",
      "Epoch 6/20\n",
      "45000/45000 [==============================] - 6s 139us/sample - loss: 0.9626 - acc: 0.6642 - val_loss: 0.9478 - val_acc: 0.6688\n",
      "Epoch 7/20\n",
      "45000/45000 [==============================] - 6s 139us/sample - loss: 0.9165 - acc: 0.6810 - val_loss: 0.9573 - val_acc: 0.6676\n",
      "Epoch 8/20\n",
      "45000/45000 [==============================] - 6s 140us/sample - loss: 0.8790 - acc: 0.6918 - val_loss: 0.9172 - val_acc: 0.6776\n",
      "Epoch 9/20\n",
      "45000/45000 [==============================] - 6s 138us/sample - loss: 0.8465 - acc: 0.7028 - val_loss: 0.9421 - val_acc: 0.6786\n",
      "Epoch 10/20\n",
      "45000/45000 [==============================] - 6s 140us/sample - loss: 0.8079 - acc: 0.7161 - val_loss: 0.9459 - val_acc: 0.6786\n",
      "Epoch 11/20\n",
      "45000/45000 [==============================] - 6s 138us/sample - loss: 0.7851 - acc: 0.7249 - val_loss: 0.9144 - val_acc: 0.6906\n",
      "Epoch 12/20\n",
      "45000/45000 [==============================] - 6s 140us/sample - loss: 0.7562 - acc: 0.7340 - val_loss: 0.9374 - val_acc: 0.6816\n",
      "Epoch 13/20\n",
      "45000/45000 [==============================] - 6s 139us/sample - loss: 0.7348 - acc: 0.7426 - val_loss: 0.9713 - val_acc: 0.6754\n",
      "Epoch 14/20\n",
      "45000/45000 [==============================] - 6s 140us/sample - loss: 0.7139 - acc: 0.7490 - val_loss: 0.9210 - val_acc: 0.6874\n",
      "Epoch 15/20\n",
      "45000/45000 [==============================] - 6s 138us/sample - loss: 0.6972 - acc: 0.7552 - val_loss: 0.9523 - val_acc: 0.6798\n",
      "Epoch 16/20\n",
      "45000/45000 [==============================] - 6s 140us/sample - loss: 0.6718 - acc: 0.7624 - val_loss: 0.9565 - val_acc: 0.6820\n",
      "Epoch 17/20\n",
      "45000/45000 [==============================] - 6s 140us/sample - loss: 0.6533 - acc: 0.7700 - val_loss: 1.0318 - val_acc: 0.6768\n",
      "Epoch 18/20\n",
      "45000/45000 [==============================] - 6s 141us/sample - loss: 0.6419 - acc: 0.7733 - val_loss: 0.9647 - val_acc: 0.6846\n",
      "Epoch 19/20\n",
      "45000/45000 [==============================] - 6s 141us/sample - loss: 0.6223 - acc: 0.7810 - val_loss: 1.0046 - val_acc: 0.6760\n",
      "Epoch 20/20\n",
      "45000/45000 [==============================] - 6s 141us/sample - loss: 0.6060 - acc: 0.7858 - val_loss: 0.9894 - val_acc: 0.6822\n"
     ]
    }
   ],
   "source": [
    "base_history = base_model.fit(x_train, y_train,\n",
    "                              batch_size=40,\n",
    "                              epochs=20,\n",
    "                              validation_split=0.1,\n",
    "                              use_multiprocessing=True,\n",
    "                              verbose=1)"
   ]
  },
  {
   "cell_type": "markdown",
   "metadata": {},
   "source": [
    "**Проверка модели**"
   ]
  },
  {
   "cell_type": "code",
   "execution_count": 0,
   "metadata": {
    "colab": {
     "base_uri": "https://localhost:8080/",
     "height": 281
    },
    "colab_type": "code",
    "id": "Rw6twGcLcQKn",
    "outputId": "fa0fd017-7649-42aa-9f2f-a52b3a8e6654"
   },
   "outputs": [
    {
     "data": {
      "image/png": "[encoded data removed]",
      "text/plain": [
       "<Figure size 432x288 with 1 Axes>"
      ]
     },
     "metadata": {
      "tags": []
     },
     "output_type": "display_data"
    }
   ],
   "source": [
    "plt.plot(base_history.history['acc'], label='on train')\n",
    "plt.plot(base_history.history['val_acc'], label='on valid')\n",
    "plt.title('Accuracy in Learning History')\n",
    "plt.legend(loc='best')\n",
    "plt.grid(True)\n",
    "plt.show()"
   ]
  },
  {
   "cell_type": "code",
   "execution_count": 0,
   "metadata": {
    "colab": {
     "base_uri": "https://localhost:8080/",
     "height": 34
    },
    "colab_type": "code",
    "id": "07dBNXkVcQZj",
    "outputId": "1e0c3e5b-9e7c-4bf1-a9bc-e4c7714b6a58"
   },
   "outputs": [
    {
     "name": "stdout",
     "output_type": "stream",
     "text": [
      "10000/10000 [==============================] - 1s 100us/sample - loss: 1.0318 - acc: 0.6682\n"
     ]
    }
   ],
   "source": [
    "test_loss, test_acc = base_model.evaluate(x_test, y_test, verbose=1)"
   ]
  },
  {
   "cell_type": "markdown",
   "metadata": {},
   "source": [
    "*Доля правильных ответов на тесте составляет примерно 66%.*\n",
    "\n",
    "*Попробуем далее улучшить качество модели увеличением количества нейронов (в том числе от фильтров).*"
   ]
  },
  {
   "cell_type": "markdown",
   "metadata": {},
   "source": [
    "## Увеличение количества нейронов"
   ]
  },
  {
   "cell_type": "markdown",
   "metadata": {},
   "source": [
    "Блок генерации признаков:\n",
    " - первый свёрточный слой: 32 (было 16) фильтров 3х3\n",
    " - второй свёрточный слой: 32 (было 16) фильтров 3х3\n",
    " - слой пулинга через взятие максимума с ядром фильтром 2х2\n",
    " - слой дропаута для регуляризации весов\n",
    " \n",
    "Блок классификации:\n",
    " - два полносвязных слоя по 256 (было 64) нейрона\n",
    " - слой дропаута для регуляризации весов \n",
    " - выходной слой с 10 нейронами"
   ]
  },
  {
   "cell_type": "code",
   "execution_count": 0,
   "metadata": {
    "colab": {},
    "colab_type": "code",
    "id": "R2l0YluzcQgf"
   },
   "outputs": [],
   "source": [
    "model_mn = Sequential(name='model_mn')\n",
    "\n",
    "model_mn.add(Conv2D(filters=32,\n",
    "                    kernel_size=(3, 3),\n",
    "                    activation='relu',\n",
    "                    input_shape=(32, 32, 3),\n",
    "                    padding='valid',\n",
    "                    data_format='channels_last',\n",
    "                    name='conv_1'))\n",
    "model_mn.add(Conv2D(filters=32,\n",
    "                    kernel_size=(3, 3),\n",
    "                    activation='relu',\n",
    "                    data_format='channels_last',\n",
    "                    name='conv_2'))\n",
    "model_mn.add(MaxPooling2D(pool_size=(2, 2),\n",
    "                          data_format='channels_last',\n",
    "                          name='pool_1'))\n",
    "model_mn.add(Dropout(rate=0.3, seed=0, name='drop_1'))\n",
    "\n",
    "model_mn.add(Flatten(name='flatten'))\n",
    "model_mn.add(Dense(256, activation='relu', name='dense_1'))\n",
    "model_mn.add(Dense(256, activation='relu', name='dense_2'))\n",
    "model_mn.add(Dropout(rate=0.3, seed=0, name='drop_2'))\n",
    "\n",
    "model_mn.add(Dense(10, activation='softmax', name='output'))"
   ]
  },
  {
   "cell_type": "code",
   "execution_count": 0,
   "metadata": {
    "colab": {
     "base_uri": "https://localhost:8080/",
     "height": 459
    },
    "colab_type": "code",
    "id": "svJCfm9geTkA",
    "outputId": "898978e7-a4a6-4154-8fe4-9b48eb80071f"
   },
   "outputs": [
    {
     "name": "stdout",
     "output_type": "stream",
     "text": [
      "Model: \"model_mn\"\n",
      "_________________________________________________________________\n",
      "Layer (type)                 Output Shape              Param #   \n",
      "=================================================================\n",
      "conv_1 (Conv2D)              (None, 30, 30, 32)        896       \n",
      "_________________________________________________________________\n",
      "conv_2 (Conv2D)              (None, 28, 28, 32)        9248      \n",
      "_________________________________________________________________\n",
      "pool_1 (MaxPooling2D)        (None, 14, 14, 32)        0         \n",
      "_________________________________________________________________\n",
      "drop_1 (Dropout)             (None, 14, 14, 32)        0         \n",
      "_________________________________________________________________\n",
      "flatten (Flatten)            (None, 6272)              0         \n",
      "_________________________________________________________________\n",
      "dense_1 (Dense)              (None, 256)               1605888   \n",
      "_________________________________________________________________\n",
      "dense_2 (Dense)              (None, 256)               65792     \n",
      "_________________________________________________________________\n",
      "drop_2 (Dropout)             (None, 256)               0         \n",
      "_________________________________________________________________\n",
      "output (Dense)               (None, 10)                2570      \n",
      "=================================================================\n",
      "Total params: 1,684,394\n",
      "Trainable params: 1,684,394\n",
      "Non-trainable params: 0\n",
      "_________________________________________________________________\n"
     ]
    }
   ],
   "source": [
    "model_mn.summary()"
   ]
  },
  {
   "cell_type": "code",
   "execution_count": 0,
   "metadata": {
    "colab": {},
    "colab_type": "code",
    "id": "Oy9k2hg6cQrQ"
   },
   "outputs": [],
   "source": [
    "model_mn.compile(optimizer='adam',\n",
    "                 loss='categorical_crossentropy',\n",
    "                 metrics=['accuracy'])"
   ]
  },
  {
   "cell_type": "code",
   "execution_count": 0,
   "metadata": {
    "colab": {
     "base_uri": "https://localhost:8080/",
     "height": 714
    },
    "colab_type": "code",
    "id": "e3TW9VpgcQwK",
    "outputId": "68db578c-1ce3-4ae5-b789-8cd3ae1172cb"
   },
   "outputs": [
    {
     "name": "stdout",
     "output_type": "stream",
     "text": [
      "Train on 45000 samples, validate on 5000 samples\n",
      "Epoch 1/20\n",
      "45000/45000 [==============================] - 9s 191us/sample - loss: 1.4649 - acc: 0.4676 - val_loss: 1.1311 - val_acc: 0.6002\n",
      "Epoch 2/20\n",
      "45000/45000 [==============================] - 8s 175us/sample - loss: 1.0819 - acc: 0.6169 - val_loss: 0.9881 - val_acc: 0.6506\n",
      "Epoch 3/20\n",
      "45000/45000 [==============================] - 8s 174us/sample - loss: 0.9173 - acc: 0.6760 - val_loss: 0.8942 - val_acc: 0.6820\n",
      "Epoch 4/20\n",
      "45000/45000 [==============================] - 8s 174us/sample - loss: 0.8017 - acc: 0.7182 - val_loss: 0.9106 - val_acc: 0.6836\n",
      "Epoch 5/20\n",
      "45000/45000 [==============================] - 8s 175us/sample - loss: 0.6986 - acc: 0.7541 - val_loss: 0.8562 - val_acc: 0.7116\n",
      "Epoch 6/20\n",
      "45000/45000 [==============================] - 8s 175us/sample - loss: 0.6129 - acc: 0.7849 - val_loss: 0.8922 - val_acc: 0.7078\n",
      "Epoch 7/20\n",
      "45000/45000 [==============================] - 8s 174us/sample - loss: 0.5469 - acc: 0.8071 - val_loss: 0.8832 - val_acc: 0.7132\n",
      "Epoch 8/20\n",
      "45000/45000 [==============================] - 8s 173us/sample - loss: 0.4853 - acc: 0.8269 - val_loss: 0.9207 - val_acc: 0.7108\n",
      "Epoch 9/20\n",
      "45000/45000 [==============================] - 8s 173us/sample - loss: 0.4253 - acc: 0.8492 - val_loss: 0.9630 - val_acc: 0.7152\n",
      "Epoch 10/20\n",
      "45000/45000 [==============================] - 8s 176us/sample - loss: 0.3773 - acc: 0.8682 - val_loss: 1.0321 - val_acc: 0.7012\n",
      "Epoch 11/20\n",
      "45000/45000 [==============================] - 8s 174us/sample - loss: 0.3360 - acc: 0.8798 - val_loss: 1.0561 - val_acc: 0.7086\n",
      "Epoch 12/20\n",
      "45000/45000 [==============================] - 8s 182us/sample - loss: 0.3077 - acc: 0.8923 - val_loss: 1.0828 - val_acc: 0.7138\n",
      "Epoch 13/20\n",
      "45000/45000 [==============================] - 8s 179us/sample - loss: 0.2836 - acc: 0.9021 - val_loss: 1.1647 - val_acc: 0.7090\n",
      "Epoch 14/20\n",
      "45000/45000 [==============================] - 8s 182us/sample - loss: 0.2614 - acc: 0.9068 - val_loss: 1.2222 - val_acc: 0.6992\n",
      "Epoch 15/20\n",
      "45000/45000 [==============================] - 8s 178us/sample - loss: 0.2426 - acc: 0.9134 - val_loss: 1.2271 - val_acc: 0.7038\n",
      "Epoch 16/20\n",
      "45000/45000 [==============================] - 8s 179us/sample - loss: 0.2280 - acc: 0.9205 - val_loss: 1.2541 - val_acc: 0.7050\n",
      "Epoch 17/20\n",
      "45000/45000 [==============================] - 8s 178us/sample - loss: 0.2126 - acc: 0.9258 - val_loss: 1.2931 - val_acc: 0.6978\n",
      "Epoch 18/20\n",
      "45000/45000 [==============================] - 8s 178us/sample - loss: 0.2013 - acc: 0.9299 - val_loss: 1.3185 - val_acc: 0.7034\n",
      "Epoch 19/20\n",
      "45000/45000 [==============================] - 8s 179us/sample - loss: 0.1899 - acc: 0.9352 - val_loss: 1.3649 - val_acc: 0.7080\n",
      "Epoch 20/20\n",
      "45000/45000 [==============================] - 8s 178us/sample - loss: 0.1822 - acc: 0.9374 - val_loss: 1.4529 - val_acc: 0.6990\n"
     ]
    }
   ],
   "source": [
    "history_mn = model_mn.fit(x_train, y_train,\n",
    "                          batch_size=40,\n",
    "                          epochs=20,\n",
    "                          validation_split=0.1,\n",
    "                          use_multiprocessing=True,\n",
    "                          verbose=1)"
   ]
  },
  {
   "cell_type": "markdown",
   "metadata": {},
   "source": [
    "**Проверка модели**"
   ]
  },
  {
   "cell_type": "code",
   "execution_count": 0,
   "metadata": {
    "colab": {
     "base_uri": "https://localhost:8080/",
     "height": 281
    },
    "colab_type": "code",
    "id": "t8r-Ur-NcQ4P",
    "outputId": "14ab5018-eb31-40ce-da32-531ddc884126"
   },
   "outputs": [
    {
     "data": {
      "image/png": "[encoded data removed]",
      "text/plain": [
       "<Figure size 432x288 with 1 Axes>"
      ]
     },
     "metadata": {
      "tags": []
     },
     "output_type": "display_data"
    }
   ],
   "source": [
    "plt.plot(history_mn.history['acc'], label='on train')\n",
    "plt.plot(history_mn.history['val_acc'], label='on valid')\n",
    "plt.title('Accuracy in Learning History')\n",
    "plt.legend(loc='best')\n",
    "plt.grid(True)\n",
    "plt.show()"
   ]
  },
  {
   "cell_type": "code",
   "execution_count": 0,
   "metadata": {
    "colab": {
     "base_uri": "https://localhost:8080/",
     "height": 34
    },
    "colab_type": "code",
    "id": "0UB4wwcFntkk",
    "outputId": "de53fcc9-a38c-479d-f998-c7e87e688fa3"
   },
   "outputs": [
    {
     "name": "stdout",
     "output_type": "stream",
     "text": [
      "10000/10000 [==============================] - 1s 114us/sample - loss: 1.5363 - acc: 0.6908\n"
     ]
    }
   ],
   "source": [
    "test_loss, test_acc = model_mn.evaluate(x_test, y_test, verbose=1)"
   ]
  },
  {
   "cell_type": "markdown",
   "metadata": {},
   "source": [
    "*Доля правильных ответов на тесте с увеличением количества нейронов увеличилась к 69%. Тем не менее, она сильно выросла и на обучающей выборке - что говорит о некотором переобучении сети.*\n",
    "\n",
    "*Попробуем далее увеличить глубину сети, добавив еще один блок со свёрточными слоями.*"
   ]
  },
  {
   "cell_type": "markdown",
   "metadata": {},
   "source": [
    "## Увеличение глубины сети"
   ]
  },
  {
   "cell_type": "markdown",
   "metadata": {},
   "source": [
    "Первый блок генерации признаков:\n",
    " - первый свёрточный слой: 32 фильтров 3х3 (индекс 0)\n",
    " - второй свёрточный слой: 32 фильтров 3х3 (индекс 1)\n",
    " - слой пулинга через взятие максимума фильтром 2х2\n",
    " - слой дропаута для регуляризации весов\n",
    "\n",
    "Второй блок генерации признаков:\n",
    " - третий свёрточный слой: 64 фильтров 3х3 (индекс 4)\n",
    " - четвёртый свёрточный слой: 64 фильтров 3х3 (индекс 5)\n",
    " - слой пулинга через взятие максимума фильтром 2х2\n",
    " - слой дропаута для регуляризации весов\n",
    "\n",
    "Блок классификации:\n",
    " - два полносвязных слоя по 256 (было 64) нейрона\n",
    " - слой дропаута для регуляризации весов \n",
    " - выходной слой с 10 нейронами"
   ]
  },
  {
   "cell_type": "code",
   "execution_count": 0,
   "metadata": {
    "colab": {},
    "colab_type": "code",
    "id": "thwNJ5gOzW3d"
   },
   "outputs": [],
   "source": [
    "model_ml = Sequential(name='model_ml')\n",
    "\n",
    "model_ml.add(Conv2D(filters=32,\n",
    "                    kernel_size=(3, 3),\n",
    "                    activation='relu', \n",
    "                    input_shape=(32, 32, 3),\n",
    "                    padding='valid',                    \n",
    "                    data_format='channels_last',\n",
    "                    name='conv_1'))\n",
    "model_ml.add(Conv2D(filters=32,\n",
    "                    kernel_size=(3, 3),\n",
    "                    activation='relu',\n",
    "                    data_format='channels_last',\n",
    "                    name='conv_2'))\n",
    "model_ml.add(MaxPooling2D(pool_size=(2, 2),\n",
    "                          data_format='channels_last',\n",
    "                          name='pool_1'))\n",
    "model_ml.add(Dropout(rate=0.3, seed=0, name='drop_1'))\n",
    "\n",
    "model_ml.add(Conv2D(filters=64,\n",
    "                    kernel_size=(3, 3),\n",
    "                    strides=(1, 1),\n",
    "                    activation='relu',\n",
    "                    padding='valid',\n",
    "                    data_format='channels_last',\n",
    "                    name='conv_3'))\n",
    "model_ml.add(Conv2D(filters=64,\n",
    "                    kernel_size=(3, 3),\n",
    "                    strides=(1, 1),\n",
    "                    activation='relu',\n",
    "                    data_format='channels_last',\n",
    "                    name='conv_4'))\n",
    "model_ml.add(MaxPooling2D(pool_size=(2,2),\n",
    "                          strides=(1, 1),\n",
    "                          data_format='channels_last',\n",
    "                          name='pool_2'))\n",
    "model_ml.add(Dropout(rate=0.3, seed=0, name='drop_2'))\n",
    "\n",
    "model_ml.add(Flatten(name='flatten'))\n",
    "model_ml.add(Dense(256, activation='relu', name='dense_1'))\n",
    "model_ml.add(Dense(256, activation='relu', name='dense_2'))\n",
    "model_ml.add(Dropout(rate=0.3, seed=0, name='drop_3'))\n",
    "\n",
    "model_ml.add(Dense(10, activation='softmax', name='output'))"
   ]
  },
  {
   "cell_type": "code",
   "execution_count": 0,
   "metadata": {
    "colab": {
     "base_uri": "https://localhost:8080/",
     "height": 595
    },
    "colab_type": "code",
    "id": "old_u9G-u2Bh",
    "outputId": "bc1c0285-10c1-4174-e370-47750e6f86e0"
   },
   "outputs": [
    {
     "name": "stdout",
     "output_type": "stream",
     "text": [
      "Model: \"model_ml\"\n",
      "_________________________________________________________________\n",
      "Layer (type)                 Output Shape              Param #   \n",
      "=================================================================\n",
      "conv_1 (Conv2D)              (None, 30, 30, 32)        896       \n",
      "_________________________________________________________________\n",
      "conv_2 (Conv2D)              (None, 28, 28, 32)        9248      \n",
      "_________________________________________________________________\n",
      "pool_1 (MaxPooling2D)        (None, 14, 14, 32)        0         \n",
      "_________________________________________________________________\n",
      "drop_1 (Dropout)             (None, 14, 14, 32)        0         \n",
      "_________________________________________________________________\n",
      "conv_3 (Conv2D)              (None, 12, 12, 64)        18496     \n",
      "_________________________________________________________________\n",
      "conv_4 (Conv2D)              (None, 10, 10, 64)        36928     \n",
      "_________________________________________________________________\n",
      "pool_2 (MaxPooling2D)        (None, 9, 9, 64)          0         \n",
      "_________________________________________________________________\n",
      "drop_2 (Dropout)             (None, 9, 9, 64)          0         \n",
      "_________________________________________________________________\n",
      "flatten (Flatten)            (None, 5184)              0         \n",
      "_________________________________________________________________\n",
      "dense_1 (Dense)              (None, 256)               1327360   \n",
      "_________________________________________________________________\n",
      "dense_2 (Dense)              (None, 256)               65792     \n",
      "_________________________________________________________________\n",
      "drop_3 (Dropout)             (None, 256)               0         \n",
      "_________________________________________________________________\n",
      "output (Dense)               (None, 10)                2570      \n",
      "=================================================================\n",
      "Total params: 1,461,290\n",
      "Trainable params: 1,461,290\n",
      "Non-trainable params: 0\n",
      "_________________________________________________________________\n"
     ]
    }
   ],
   "source": [
    "model_ml.summary()"
   ]
  },
  {
   "cell_type": "code",
   "execution_count": 0,
   "metadata": {
    "colab": {},
    "colab_type": "code",
    "id": "-qS0BD6_zW0M"
   },
   "outputs": [],
   "source": [
    "model_ml.compile(optimizer='adam',\n",
    "                 loss='categorical_crossentropy',\n",
    "                 metrics=['accuracy'])"
   ]
  },
  {
   "cell_type": "code",
   "execution_count": 0,
   "metadata": {
    "colab": {
     "base_uri": "https://localhost:8080/",
     "height": 714
    },
    "colab_type": "code",
    "id": "1hC4NqkCcQjh",
    "outputId": "110a3455-fa71-4cad-b725-67589456ed3a"
   },
   "outputs": [
    {
     "name": "stdout",
     "output_type": "stream",
     "text": [
      "Train on 45000 samples, validate on 5000 samples\n",
      "Epoch 1/20\n",
      "45000/45000 [==============================] - 10s 218us/sample - loss: 1.5824 - acc: 0.4170 - val_loss: 1.1864 - val_acc: 0.5702\n",
      "Epoch 2/20\n",
      "45000/45000 [==============================] - 9s 198us/sample - loss: 1.1825 - acc: 0.5819 - val_loss: 0.9933 - val_acc: 0.6528\n",
      "Epoch 3/20\n",
      "45000/45000 [==============================] - 9s 199us/sample - loss: 1.0188 - acc: 0.6443 - val_loss: 0.9645 - val_acc: 0.6596\n",
      "Epoch 4/20\n",
      "45000/45000 [==============================] - 9s 200us/sample - loss: 0.9140 - acc: 0.6805 - val_loss: 0.8246 - val_acc: 0.7118\n",
      "Epoch 5/20\n",
      "45000/45000 [==============================] - 9s 201us/sample - loss: 0.8351 - acc: 0.7062 - val_loss: 0.8217 - val_acc: 0.7156\n",
      "Epoch 6/20\n",
      "45000/45000 [==============================] - 9s 199us/sample - loss: 0.7762 - acc: 0.7247 - val_loss: 0.7728 - val_acc: 0.7278\n",
      "Epoch 7/20\n",
      "45000/45000 [==============================] - 9s 200us/sample - loss: 0.7307 - acc: 0.7435 - val_loss: 0.7828 - val_acc: 0.7358\n",
      "Epoch 8/20\n",
      "45000/45000 [==============================] - 9s 199us/sample - loss: 0.6937 - acc: 0.7566 - val_loss: 0.7371 - val_acc: 0.7518\n",
      "Epoch 9/20\n",
      "45000/45000 [==============================] - 9s 198us/sample - loss: 0.6609 - acc: 0.7664 - val_loss: 0.7513 - val_acc: 0.7446\n",
      "Epoch 10/20\n",
      "45000/45000 [==============================] - 9s 200us/sample - loss: 0.6290 - acc: 0.7790 - val_loss: 0.7657 - val_acc: 0.7484\n",
      "Epoch 11/20\n",
      "45000/45000 [==============================] - 9s 201us/sample - loss: 0.5943 - acc: 0.7877 - val_loss: 0.7210 - val_acc: 0.7554\n",
      "Epoch 12/20\n",
      "45000/45000 [==============================] - 9s 199us/sample - loss: 0.5725 - acc: 0.7986 - val_loss: 0.7288 - val_acc: 0.7562\n",
      "Epoch 13/20\n",
      "45000/45000 [==============================] - 9s 201us/sample - loss: 0.5451 - acc: 0.8055 - val_loss: 0.7548 - val_acc: 0.7552\n",
      "Epoch 14/20\n",
      "45000/45000 [==============================] - 9s 201us/sample - loss: 0.5293 - acc: 0.8126 - val_loss: 0.7365 - val_acc: 0.7614\n",
      "Epoch 15/20\n",
      "45000/45000 [==============================] - 9s 201us/sample - loss: 0.5083 - acc: 0.8214 - val_loss: 0.7523 - val_acc: 0.7572\n",
      "Epoch 16/20\n",
      "45000/45000 [==============================] - 9s 203us/sample - loss: 0.4938 - acc: 0.8250 - val_loss: 0.8258 - val_acc: 0.7514\n",
      "Epoch 17/20\n",
      "45000/45000 [==============================] - 9s 203us/sample - loss: 0.4761 - acc: 0.8302 - val_loss: 0.7487 - val_acc: 0.7610\n",
      "Epoch 18/20\n",
      "45000/45000 [==============================] - 9s 200us/sample - loss: 0.4581 - acc: 0.8383 - val_loss: 0.8937 - val_acc: 0.7456\n",
      "Epoch 19/20\n",
      "45000/45000 [==============================] - 9s 201us/sample - loss: 0.4533 - acc: 0.8417 - val_loss: 0.7845 - val_acc: 0.7704\n",
      "Epoch 20/20\n",
      "45000/45000 [==============================] - 9s 200us/sample - loss: 0.4315 - acc: 0.8482 - val_loss: 0.7989 - val_acc: 0.7656\n"
     ]
    }
   ],
   "source": [
    "history_ml = model_ml.fit(x_train, y_train,\n",
    "                          batch_size=40,\n",
    "                          epochs=20,\n",
    "                          validation_split=0.1,\n",
    "                          use_multiprocessing=True,\n",
    "                          verbose=1)"
   ]
  },
  {
   "cell_type": "markdown",
   "metadata": {},
   "source": [
    "**Проверка модели**"
   ]
  },
  {
   "cell_type": "code",
   "execution_count": 0,
   "metadata": {
    "colab": {
     "base_uri": "https://localhost:8080/",
     "height": 281
    },
    "colab_type": "code",
    "id": "2piaE8sBeIZ7",
    "outputId": "992d3ce1-f3e5-4511-c0e7-15b0e3d7fb96"
   },
   "outputs": [
    {
     "data": {
      "image/png": "[encoded data removed]",
      "text/plain": [
       "<Figure size 432x288 with 1 Axes>"
      ]
     },
     "metadata": {
      "tags": []
     },
     "output_type": "display_data"
    }
   ],
   "source": [
    "plt.plot(history_ml.history['acc'], label='on train')\n",
    "plt.plot(history_ml.history['val_acc'], label='on valid')\n",
    "plt.title('Accuracy in Learning History')\n",
    "plt.legend(loc='best')\n",
    "plt.grid(True)\n",
    "plt.show()"
   ]
  },
  {
   "cell_type": "code",
   "execution_count": 0,
   "metadata": {
    "colab": {
     "base_uri": "https://localhost:8080/",
     "height": 34
    },
    "colab_type": "code",
    "id": "a0oNhSTLcQoG",
    "outputId": "e54092f3-1594-497e-d04f-4536b1121566"
   },
   "outputs": [
    {
     "name": "stdout",
     "output_type": "stream",
     "text": [
      "10000/10000 [==============================] - 1s 119us/sample - loss: 0.8554 - acc: 0.7510\n"
     ]
    }
   ],
   "source": [
    "test_loss, test_acc = model_ml.evaluate(x_test, y_test, verbose=1)"
   ]
  },
  {
   "cell_type": "markdown",
   "metadata": {},
   "source": [
    "*Доля правильных ответов на тесте с увеличением глубины сети увеличилась до 75%. При этом, хотя количество нейронов не меньше, чем в прошлый раз (+ добавились нейроны нового блока), эффект переобучения мал.*\n",
    "\n",
    "*Таким образом, подтверждается то, что увеличение глубины CNN может давать модели прирост качества. Однако слои. конечно, следует добавлять аккуратно.*"
   ]
  },
  {
   "cell_type": "markdown",
   "metadata": {},
   "source": [
    "**Сохранение весов последней модели**"
   ]
  },
  {
   "cell_type": "code",
   "execution_count": 0,
   "metadata": {
    "colab": {
     "base_uri": "https://localhost:8080/",
     "height": 34
    },
    "colab_type": "code",
    "id": "NDH3p3j6cQmE",
    "outputId": "f6a8e1c8-efb7-4bf4-85c0-03498e769b82"
   },
   "outputs": [
    {
     "name": "stdout",
     "output_type": "stream",
     "text": [
      "Drive already mounted at /content/drive; to attempt to forcibly remount, call drive.mount(\"/content/drive\", force_remount=True).\n"
     ]
    }
   ],
   "source": [
    "from google.colab import drive\n",
    "drive.mount('/content/drive')"
   ]
  },
  {
   "cell_type": "code",
   "execution_count": 0,
   "metadata": {
    "colab": {},
    "colab_type": "code",
    "id": "uQVZhWc1zW68"
   },
   "outputs": [],
   "source": [
    "base_model.save_weights('/content/drive/My Drive/base_model.h5')\n",
    "model_mn.save_weights('/content/drive/My Drive/model_mn.h5')\n",
    "model_ml.save_weights('/content/drive/My Drive/model_ml.h5')"
   ]
  },
  {
   "cell_type": "markdown",
   "metadata": {},
   "source": [
    "## Работа слоёв свёртки"
   ]
  },
  {
   "cell_type": "markdown",
   "metadata": {},
   "source": [
    "**Возьмём в качестве примера первое тестовое изображение:**"
   ]
  },
  {
   "cell_type": "code",
   "execution_count": 0,
   "metadata": {
    "colab": {
     "base_uri": "https://localhost:8080/",
     "height": 266
    },
    "colab_type": "code",
    "id": "a6OUCsXtMNPM",
    "outputId": "84ddfc3f-6dae-432c-a78e-4af169bb7a99"
   },
   "outputs": [
    {
     "data": {
      "image/png": "[encoded data removed]",
      "text/plain": [
       "<Figure size 432x288 with 1 Axes>"
      ]
     },
     "metadata": {
      "tags": []
     },
     "output_type": "display_data"
    }
   ],
   "source": [
    "plt.imshow(test_images[0])\n",
    "plt.show()"
   ]
  },
  {
   "cell_type": "markdown",
   "metadata": {},
   "source": [
    "**Вырежем из последней сети первый слой свёртки:**"
   ]
  },
  {
   "cell_type": "code",
   "execution_count": 0,
   "metadata": {
    "colab": {
     "base_uri": "https://localhost:8080/",
     "height": 221
    },
    "colab_type": "code",
    "id": "nU1Lt-IJeIXA",
    "outputId": "67440b34-6df1-454b-9539-bb9a507d61e4"
   },
   "outputs": [
    {
     "name": "stdout",
     "output_type": "stream",
     "text": [
      "Model: \"conv_1\"\n",
      "_________________________________________________________________\n",
      "Layer (type)                 Output Shape              Param #   \n",
      "=================================================================\n",
      "conv_1_input (InputLayer)    [(None, 32, 32, 3)]       0         \n",
      "_________________________________________________________________\n",
      "conv_1 (Conv2D)              (None, 30, 30, 32)        896       \n",
      "=================================================================\n",
      "Total params: 896\n",
      "Trainable params: 896\n",
      "Non-trainable params: 0\n",
      "_________________________________________________________________\n"
     ]
    }
   ],
   "source": [
    "# Индекс 0\n",
    "conv_1 = Model(inputs=model_ml.input, outputs=model_ml.layers[0].output, name='conv_1')\n",
    "conv_1.summary()"
   ]
  },
  {
   "cell_type": "markdown",
   "metadata": {},
   "source": [
    "**Пропустим пример изображения через первые 16 фильтров вырезанного первого слоя:**"
   ]
  },
  {
   "cell_type": "code",
   "execution_count": 0,
   "metadata": {
    "colab": {
     "base_uri": "https://localhost:8080/",
     "height": 756
    },
    "colab_type": "code",
    "id": "K3vrgQp8eIRi",
    "outputId": "0d514149-8d34-4c3e-e7e9-462070ad5b34"
   },
   "outputs": [
    {
     "data": {
      "image/png": "[encoded data removed]",
      "text/plain": [
       "<Figure size 936x936 with 16 Axes>"
      ]
     },
     "metadata": {
      "tags": []
     },
     "output_type": "display_data"
    }
   ],
   "source": [
    "conv1_features = conv_1.predict(x_test[0].reshape(1, 32, 32, 3))\n",
    "\n",
    "fig, axes = plt.subplots(nrows=4, ncols=4, sharex=True, sharey=True, figsize=(13, 13))\n",
    "for i, ax in enumerate(axes.flatten()):\n",
    "    image = conv1_features[0, :, :, i] * 255\n",
    "    ax.imshow(image, cmap='viridis')"
   ]
  },
  {
   "cell_type": "markdown",
   "metadata": {},
   "source": [
    "*Поскольку слой первый, видна пока ещё достаточно высокая детализация изображения. Кое-где прослеживаются артефакты исходного изображения*."
   ]
  },
  {
   "cell_type": "markdown",
   "metadata": {},
   "source": [
    "**Вырежем из сети предпоследний слой свёртки:**"
   ]
  },
  {
   "cell_type": "code",
   "execution_count": 0,
   "metadata": {
    "colab": {
     "base_uri": "https://localhost:8080/",
     "height": 357
    },
    "colab_type": "code",
    "id": "4wu5DfnseIO8",
    "outputId": "6c98c998-bfc5-4c3d-a989-e3abcacd16c0"
   },
   "outputs": [
    {
     "name": "stdout",
     "output_type": "stream",
     "text": [
      "Model: \"conv_4\"\n",
      "_________________________________________________________________\n",
      "Layer (type)                 Output Shape              Param #   \n",
      "=================================================================\n",
      "conv_1_input (InputLayer)    [(None, 32, 32, 3)]       0         \n",
      "_________________________________________________________________\n",
      "conv_1 (Conv2D)              (None, 30, 30, 32)        896       \n",
      "_________________________________________________________________\n",
      "conv_2 (Conv2D)              (None, 28, 28, 32)        9248      \n",
      "_________________________________________________________________\n",
      "pool_1 (MaxPooling2D)        (None, 14, 14, 32)        0         \n",
      "_________________________________________________________________\n",
      "drop_1 (Dropout)             (None, 14, 14, 32)        0         \n",
      "_________________________________________________________________\n",
      "conv_3 (Conv2D)              (None, 12, 12, 64)        18496     \n",
      "=================================================================\n",
      "Total params: 28,640\n",
      "Trainable params: 28,640\n",
      "Non-trainable params: 0\n",
      "_________________________________________________________________\n"
     ]
    }
   ],
   "source": [
    "# Индекс 4\n",
    "conv_4 = Model(inputs=model_ml.input, outputs=model_ml.layers[4].output, name='conv_4')\n",
    "conv_4.summary()"
   ]
  },
  {
   "cell_type": "markdown",
   "metadata": {},
   "source": [
    "**Пропустим пример изображения через первые 16 фильтров вырезанного предпоследнего слоя:**"
   ]
  },
  {
   "cell_type": "code",
   "execution_count": 0,
   "metadata": {
    "colab": {
     "base_uri": "https://localhost:8080/",
     "height": 755
    },
    "colab_type": "code",
    "id": "jhefsEkeeIUN",
    "outputId": "b46a93d1-c962-4e73-d0fb-70cda275dcec"
   },
   "outputs": [
    {
     "data": {
      "image/png": "[encoded data removed]",
      "text/plain": [
       "<Figure size 936x936 with 16 Axes>"
      ]
     },
     "metadata": {
      "tags": []
     },
     "output_type": "display_data"
    }
   ],
   "source": [
    "conv4_features = conv_4.predict(x_test[0].reshape(1, 32, 32, 3))\n",
    "\n",
    "fig, axes = plt.subplots(nrows=4, ncols=4, sharex=True, sharey=True, figsize=(13, 13))\n",
    "for i, ax in enumerate(axes.flatten()):\n",
    "    image = conv4_features[0, :, :, i] * 255\n",
    "    ax.imshow(image, cmap='viridis')"
   ]
  },
  {
   "cell_type": "markdown",
   "metadata": {
    "colab": {},
    "colab_type": "code",
    "id": "fYPIOm1MHW9Z"
   },
   "source": [
    "*Заметна повысившаяся с увеличением глубины сети пикселизация получаемых результатов. Это можно проинтерпретировать как ещё большее обобщение получаемых результатов свёртки - т.е. новых снегерированных признаков, которые потом пойдут на слой классификаци - что и обеспечивает прирост качества сети на не известных ей изображениях. Тем не менее, увеличение её глубины тоже следует контролировать (например, анализом и проверкой её работы, а также регуляризацией).*"
   ]
  },
  {
   "cell_type": "markdown",
   "metadata": {},
   "source": [
    " "
   ]
  }
 ],
 "metadata": {
  "accelerator": "GPU",
  "colab": {
   "collapsed_sections": [],
   "name": "Untitled1.ipynb",
   "provenance": []
  },
  "kernelspec": {
   "display_name": "Python 3",
   "language": "python",
   "name": "python3"
  },
  "language_info": {
   "codemirror_mode": {
    "name": "ipython",
    "version": 3
   },
   "file_extension": ".py",
   "mimetype": "text/x-python",
   "name": "python",
   "nbconvert_exporter": "python",
   "pygments_lexer": "ipython3",
   "version": "3.7.3"
  }
 },
 "nbformat": 4,
 "nbformat_minor": 1
}
