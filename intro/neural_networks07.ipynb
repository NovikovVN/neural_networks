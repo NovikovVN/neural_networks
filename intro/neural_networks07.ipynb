{
 "cells": [
  {
   "cell_type": "markdown",
   "metadata": {},
   "source": [
    "# Введение в искусственные нейронные сети\n",
    "# Урок 7. Рекуррентные нейронные сети"
   ]
  },
  {
   "cell_type": "markdown",
   "metadata": {},
   "source": [
    "## Практическое задание\n",
    "\n",
    " - Попробуйте обучить нейронную сеть LSTM на любом другом датасете. Опишите в комментарии к уроку - какой результата вы добились от нейросети? Что помогло вам улучшить ее точность?"
   ]
  },
  {
   "cell_type": "code",
   "execution_count": 0,
   "metadata": {
    "colab": {},
    "colab_type": "code",
    "id": "rdvtBj4bSwZI"
   },
   "outputs": [],
   "source": [
    "import numpy as np\n",
    "import matplotlib.pyplot as plt\n",
    "\n",
    "%tensorflow_version 2.x\n",
    "from tensorflow.keras.preprocessing import sequence\n",
    "from tensorflow.keras.models import Sequential\n",
    "from tensorflow.keras.layers import Dense, Embedding, Input\n",
    "from tensorflow.keras.layers import LSTM\n",
    "from tensorflow.keras.datasets import mnist\n",
    "from keras.utils.np_utils import to_categorical\n",
    "\n",
    "%matplotlib inline"
   ]
  },
  {
   "cell_type": "markdown",
   "metadata": {},
   "source": [
    "**Данные MNIST**"
   ]
  },
  {
   "cell_type": "code",
   "execution_count": 0,
   "metadata": {
    "colab": {},
    "colab_type": "code",
    "id": "z52TgH2WQMdn"
   },
   "outputs": [],
   "source": [
    "(train_images, train_labels), (test_images, test_labels) = mnist.load_data()"
   ]
  },
  {
   "cell_type": "code",
   "execution_count": 0,
   "metadata": {
    "colab": {
     "base_uri": "https://localhost:8080/",
     "height": 281
    },
    "colab_type": "code",
    "id": "k4VPbgjbX_jR",
    "outputId": "a063820a-299d-4a0d-b576-9af881160147"
   },
   "outputs": [
    {
     "data": {
      "image/png": "[encoded data removed]",
      "text/plain": [
       "<Figure size 432x288 with 1 Axes>"
      ]
     },
     "metadata": {
      "tags": []
     },
     "output_type": "display_data"
    }
   ],
   "source": [
    "i = 18\n",
    "plt.imshow(train_images[i])\n",
    "plt.title(f'Label: {train_labels[i]}')\n",
    "plt.show()"
   ]
  },
  {
   "cell_type": "markdown",
   "metadata": {},
   "source": [
    "Количество цифр:"
   ]
  },
  {
   "cell_type": "code",
   "execution_count": 0,
   "metadata": {
    "colab": {
     "base_uri": "https://localhost:8080/",
     "height": 34
    },
    "colab_type": "code",
    "id": "oOQrjMCuYxQi",
    "outputId": "9c3eb2ca-730c-40fa-82f8-e2ee1e93caf5"
   },
   "outputs": [
    {
     "data": {
      "text/plain": [
       "10"
      ]
     },
     "execution_count": 13,
     "metadata": {
      "tags": []
     },
     "output_type": "execute_result"
    }
   ],
   "source": [
    "n_classes = np.amax(train_labels) + 1\n",
    "n_classes"
   ]
  },
  {
   "cell_type": "markdown",
   "metadata": {},
   "source": [
    "Обработка данных:"
   ]
  },
  {
   "cell_type": "code",
   "execution_count": 0,
   "metadata": {
    "colab": {},
    "colab_type": "code",
    "id": "BgKoYzQtQf3N"
   },
   "outputs": [],
   "source": [
    "X_train = train_images.astype('float32') / 255\n",
    "X_test = test_images.astype('float32') / 255\n",
    "\n",
    "Y_train = to_categorical(train_labels, n_classes)\n",
    "Y_test = to_categorical(test_labels, n_classes)"
   ]
  },
  {
   "cell_type": "markdown",
   "metadata": {},
   "source": [
    "Сеть - один LSTM-слой c 128 скрытыми нейронами:"
   ]
  },
  {
   "cell_type": "code",
   "execution_count": 0,
   "metadata": {
    "colab": {
     "base_uri": "https://localhost:8080/",
     "height": 54
    },
    "colab_type": "code",
    "id": "oPFiUkz8SpT2",
    "outputId": "5e49a53c-62ed-4d43-9278-22c65b7fb11f"
   },
   "outputs": [
    {
     "name": "stdout",
     "output_type": "stream",
     "text": [
      "WARNING:tensorflow:Layer lstm will not use cuDNN kernel since it doesn't meet the cuDNN kernel criteria. It will use generic GPU kernel as fallback when running on GPU\n"
     ]
    }
   ],
   "source": [
    "model = Sequential(name='model')\n",
    "model.add(LSTM(128, dropout=0.2, recurrent_dropout=0.2, name='lstm'))\n",
    "model.add(Dense(n_classes, activation='softmax', name='output'))"
   ]
  },
  {
   "cell_type": "code",
   "execution_count": 0,
   "metadata": {
    "colab": {},
    "colab_type": "code",
    "id": "S78rtjL-Spd0"
   },
   "outputs": [],
   "source": [
    "model.compile(optimizer='adam',\n",
    "              loss='categorical_crossentropy',\n",
    "              metrics=['accuracy'])"
   ]
  },
  {
   "cell_type": "code",
   "execution_count": 0,
   "metadata": {
    "colab": {
     "base_uri": "https://localhost:8080/",
     "height": 357
    },
    "colab_type": "code",
    "id": "mi1-sWcDSpjU",
    "outputId": "e64f1760-570f-4063-a7c5-0c666f24d916"
   },
   "outputs": [
    {
     "name": "stdout",
     "output_type": "stream",
     "text": [
      "Epoch 1/10\n",
      "1200/1200 [==============================] - 64s 54ms/step - loss: 0.4403 - accuracy: 0.8569 - val_loss: 0.1474 - val_accuracy: 0.9556\n",
      "Epoch 2/10\n",
      "1200/1200 [==============================] - 64s 54ms/step - loss: 0.1425 - accuracy: 0.9568 - val_loss: 0.0917 - val_accuracy: 0.9711\n",
      "Epoch 3/10\n",
      "1200/1200 [==============================] - 63s 52ms/step - loss: 0.1043 - accuracy: 0.9684 - val_loss: 0.0621 - val_accuracy: 0.9812\n",
      "Epoch 4/10\n",
      "1200/1200 [==============================] - 63s 52ms/step - loss: 0.0816 - accuracy: 0.9756 - val_loss: 0.0590 - val_accuracy: 0.9814\n",
      "Epoch 5/10\n",
      "1200/1200 [==============================] - 65s 54ms/step - loss: 0.0687 - accuracy: 0.9795 - val_loss: 0.0523 - val_accuracy: 0.9839\n",
      "Epoch 6/10\n",
      "1200/1200 [==============================] - 65s 54ms/step - loss: 0.0596 - accuracy: 0.9818 - val_loss: 0.0529 - val_accuracy: 0.9839\n",
      "Epoch 7/10\n",
      "1200/1200 [==============================] - 65s 54ms/step - loss: 0.0548 - accuracy: 0.9832 - val_loss: 0.0420 - val_accuracy: 0.9864\n",
      "Epoch 8/10\n",
      "1200/1200 [==============================] - 64s 54ms/step - loss: 0.0488 - accuracy: 0.9849 - val_loss: 0.0463 - val_accuracy: 0.9857\n",
      "Epoch 9/10\n",
      "1200/1200 [==============================] - 65s 54ms/step - loss: 0.0449 - accuracy: 0.9861 - val_loss: 0.0444 - val_accuracy: 0.9874\n",
      "Epoch 10/10\n",
      "1200/1200 [==============================] - 65s 54ms/step - loss: 0.0404 - accuracy: 0.9877 - val_loss: 0.0390 - val_accuracy: 0.9877\n"
     ]
    }
   ],
   "source": [
    "history = model.fit(X_train, Y_train,\n",
    "                    batch_size=50,\n",
    "                    epochs=10,\n",
    "                    validation_data=(X_test, Y_test))"
   ]
  },
  {
   "cell_type": "code",
   "execution_count": 0,
   "metadata": {
    "colab": {
     "base_uri": "https://localhost:8080/",
     "height": 281
    },
    "colab_type": "code",
    "id": "JRRcZLPaSP56",
    "outputId": "e7bc1a08-e6b8-4ec7-b328-21c0e9b597e3"
   },
   "outputs": [
    {
     "data": {
      "image/png": "[encoded data removed]",
      "text/plain": [
       "<Figure size 432x288 with 1 Axes>"
      ]
     },
     "metadata": {
      "tags": []
     },
     "output_type": "display_data"
    }
   ],
   "source": [
    "plt.plot(history.history['accuracy'], label='on train')\n",
    "plt.plot(history.history['val_accuracy'], label='on valid')\n",
    "plt.title('Accuracy in Learning History')\n",
    "plt.legend(loc='best')\n",
    "plt.grid(True)\n",
    "plt.show()"
   ]
  },
  {
   "cell_type": "markdown",
   "metadata": {},
   "source": [
    "Сеть изначально получилась достаточно хорошая по качеству. Лучшего качества удалось достичь повышением количества нейронов в скрытом слое и количества эпох (последнее, возможно, даже было несколько излишним). Увеличение параметра batch_size убыстрило обучение."
   ]
  },
  {
   "cell_type": "markdown",
   "metadata": {},
   "source": [
    "## Задание 2\n",
    "\n",
    " - Попробуйте на numpy реализовать нейронную сеть архитектуры LSTM"
   ]
  },
  {
   "cell_type": "code",
   "execution_count": 1,
   "metadata": {
    "colab": {},
    "colab_type": "code",
    "id": "4NBhXxD9SQDV"
   },
   "outputs": [],
   "source": [
    "import numpy as np\n",
    "import matplotlib.pyplot as plt\n",
    "\n",
    "%matplotlib inline"
   ]
  },
  {
   "cell_type": "markdown",
   "metadata": {},
   "source": [
    "Функции активации:"
   ]
  },
  {
   "cell_type": "code",
   "execution_count": 2,
   "metadata": {},
   "outputs": [],
   "source": [
    "def sigmoid(x):\n",
    "    return 1 / (1 + np.exp(-x))\n",
    "\n",
    "def tanh(x):\n",
    "    return np.tanh(x)\n",
    "\n",
    "def softmax(x):\n",
    "    return np.exp(x) / np.sum(np.exp(x))"
   ]
  },
  {
   "cell_type": "markdown",
   "metadata": {},
   "source": [
    "Реализация на основе [этого примера](https://en.wikipedia.org/wiki/Long_short-term_memory#LSTM_with_a_forget_gate):"
   ]
  },
  {
   "cell_type": "code",
   "execution_count": 3,
   "metadata": {},
   "outputs": [],
   "source": [
    "D = 30   # размерность входного вектора\n",
    "H = 100  # размерность вектора скрытого состояния\n",
    "V = 10   # размерность выходного вектора\n",
    "T = 100  # количество временных наблюдений"
   ]
  },
  {
   "cell_type": "markdown",
   "metadata": {},
   "source": [
    "Задание весовых матриц и векторов сдвигов:"
   ]
  },
  {
   "cell_type": "code",
   "execution_count": 4,
   "metadata": {},
   "outputs": [],
   "source": [
    "np.random.seed(21)\n",
    "\n",
    "W_f = np.random.randn(H, D)\n",
    "U_f = np.random.randn(H, H)\n",
    "b_f = np.random.randn(H, 1)\n",
    "\n",
    "W_i = np.random.randn(H, D)\n",
    "U_i = np.random.randn(H, H)\n",
    "b_i = np.random.randn(H, 1)\n",
    "\n",
    "W_o = np.random.randn(H, D)\n",
    "U_o = np.random.randn(H, H)\n",
    "b_o = np.random.randn(H, 1)\n",
    "\n",
    "W_c = np.random.randn(H, D)\n",
    "U_c = np.random.randn(H, H)\n",
    "b_c = np.random.randn(H, 1)\n",
    "\n",
    "W_y = np.random.randn(V, H)\n",
    "b_y = np.random.randn(V, 1)"
   ]
  },
  {
   "cell_type": "code",
   "execution_count": 5,
   "metadata": {},
   "outputs": [],
   "source": [
    "def lstm(x, h_previous, c_previous):\n",
    "    x = x.reshape(D, 1) # входной вектор\n",
    "    \n",
    "    f = sigmoid(W_f @ x + U_f @ h_previous + b_f) # вентиль забывания (forget gate)\n",
    "    i = sigmoid(W_i @ x + U_i @ h_previous + b_i) # входной вентиль (input gate)\n",
    "    o = sigmoid(W_o @ x + U_o @ h_previous + b_o) # выходной вентиль (output gate)\n",
    "    c_candidate = tanh(W_c @ x + U_c @ h_previous + b_c) # вектор-кандидат состояния памяти\n",
    "    c = f * c_previous + i * c_candidate # текущий вектор состояния памяти\n",
    "    h = o * tanh(c) # текущий вектор скрытого состояния\n",
    "    \n",
    "    y = softmax(W_y @ o + b_y) # выходной вектор\n",
    "    y = y.reshape(1, V)\n",
    "    \n",
    "    return y, h, c"
   ]
  },
  {
   "cell_type": "markdown",
   "metadata": {},
   "source": [
    "Имеется T значений входного вектора Dx1:"
   ]
  },
  {
   "cell_type": "code",
   "execution_count": 6,
   "metadata": {
    "colab": {},
    "colab_type": "code",
    "id": "Sz5Z1I2XSQOd"
   },
   "outputs": [],
   "source": [
    "np.random.seed(21)\n",
    "\n",
    "data = np.random.randn(T, D)\n",
    "\n",
    "h_previous = np.zeros(H).reshape(H, 1)\n",
    "c_previous = np.zeros(H).reshape(H, 1)"
   ]
  },
  {
   "cell_type": "markdown",
   "metadata": {},
   "source": [
    "Будем последовательно подавать их на LSTM-сеть с заданными ранее весами:"
   ]
  },
  {
   "cell_type": "code",
   "execution_count": 7,
   "metadata": {},
   "outputs": [],
   "source": [
    "answers = []\n",
    "for x in data:\n",
    "    y, h_previous, c_previous = lstm(x, h_previous, c_previous)\n",
    "    answers.append(np.argmax(y))"
   ]
  },
  {
   "cell_type": "markdown",
   "metadata": {},
   "source": [
    "Пример работы такой сети (индексы максимума в каждом из T выходных векторов):"
   ]
  },
  {
   "cell_type": "code",
   "execution_count": 8,
   "metadata": {},
   "outputs": [
    {
     "data": {
      "image/png": "[encoded data removed]",
      "text/plain": [
       "<Figure size 432x288 with 1 Axes>"
      ]
     },
     "metadata": {
      "needs_background": "light"
     },
     "output_type": "display_data"
    }
   ],
   "source": [
    "plt.plot(answers)\n",
    "plt.xlabel('$T$')\n",
    "plt.show()"
   ]
  },
  {
   "cell_type": "markdown",
   "metadata": {},
   "source": [
    "## Задание 3\n",
    "\n",
    " - Предложите свои варианты решения проблемы исчезающего градиента в RNN"
   ]
  },
  {
   "cell_type": "markdown",
   "metadata": {},
   "source": [
    "Для решения проблемы затухающего градиента в RNN предлагают использовать:\n",
    " - единичную (а не случайную) матрицу весов $W_{hh}$;\n",
    " - ReLU в качестве функций активации скрытых состояний (их производная для положительного суммарного входа постоянны и равны 1 - поэтому их градиент не затухает)."
   ]
  }
 ],
 "metadata": {
  "accelerator": "GPU",
  "colab": {
   "collapsed_sections": [],
   "name": "Untitled4.ipynb",
   "provenance": []
  },
  "kernelspec": {
   "display_name": "Python 3",
   "language": "python",
   "name": "python3"
  },
  "language_info": {
   "codemirror_mode": {
    "name": "ipython",
    "version": 3
   },
   "file_extension": ".py",
   "mimetype": "text/x-python",
   "name": "python",
   "nbconvert_exporter": "python",
   "pygments_lexer": "ipython3",
   "version": "3.7.3"
  }
 },
 "nbformat": 4,
 "nbformat_minor": 1
}
